{
 "cells": [
  {
   "cell_type": "markdown",
   "metadata": {},
   "source": [
    "# Data preprocessing and cleaning"
   ]
  },
  {
   "cell_type": "markdown",
   "metadata": {},
   "source": [
    "Merging Store Information: We first merge the store attributes with the training set, and calculate some date variables such as day of the month, year and month:"
   ]
  },
  {
   "cell_type": "code",
   "execution_count": 2,
   "metadata": {
    "collapsed": true
   },
   "outputs": [],
   "source": [
    "import pandas as pd\n",
    "import numpy as np\n",
    "\n",
    "types = {'CompetitionOpenSinceYear': np.dtype(int),\n",
    "         'CompetitionOpenSinceMonth': np.dtype(int),\n",
    "         'CompetitionDistance' : np.dtype(int),\n",
    "         'StateHoliday': np.dtype(str),\n",
    "         'Promo2SinceWeek': np.dtype(int),\n",
    "         'Promo2SinceYear': np.dtype(int),\n",
    "         'SchoolHoliday': np.dtype(float),\n",
    "         'PromoInterval': np.dtype(str)}\n"
   ]
  },
  {
   "cell_type": "code",
   "execution_count": 3,
   "metadata": {
    "collapsed": true
   },
   "outputs": [],
   "source": [
    "train = pd.read_csv('D://kishore//train.csv',\n",
    "                    parse_dates=['Date'], dtype=types)\n",
    "\n",
    "test = pd.read_csv('D://kishore//test.csv',\n",
    "                   parse_dates=['Date'],dtype=types)\n",
    "\n",
    "store = pd.read_csv('D://kishore//store.csv')"
   ]
  },
  {
   "cell_type": "code",
   "execution_count": 4,
   "metadata": {
    "collapsed": true
   },
   "outputs": [],
   "source": [
    "def calcDates(df):\n",
    "    df['Month'] = df.Date.dt.month\n",
    "    df['Year'] = df.Date.dt.year\n",
    "    df['Day'] = df.Date.dt.day\n",
    "    df['WeekOfYear'] = df.Date.dt.weekofyear\n",
    "    # Year-Month 2015-08 \n",
    "    # will be used for monthly sale calculation:\n",
    "    df['YearMonth'] = df['Date'].apply(lambda x:(str(x)[:7]))\n",
    "    return df\n",
    "\n",
    "\n",
    "train = pd.merge(train,store,on='Store')\n",
    "test = pd.merge(test,store,on='Store')\n",
    "\n",
    "train = calcDates(train)\n",
    "test = calcDates(test)"
   ]
  },
  {
   "cell_type": "markdown",
   "metadata": {},
   "source": [
    "# Cleaning Promo2 and Competition"
   ]
  },
  {
   "cell_type": "raw",
   "metadata": {},
   "source": [
    "Promo2 variable is given as intervals. For example string of format \"Apr,May,Aug,Dec\" and also the date it starts. We convert this to a single binary variable that indicates if at that date Promo2 is active or not.\n",
    "\n",
    "We also build a binary feature that indicates if there exist a competition at a given date or not. The original version of the given data only indicates when the competition opened."
   ]
  },
  {
   "cell_type": "code",
   "execution_count": 5,
   "metadata": {
    "collapsed": true
   },
   "outputs": [],
   "source": [
    "def cleanPromoCompetition(df,drop=False):\n",
    "    # ========== Fixing promo2 ============\n",
    "    df.PromoInterval.fillna(0,inplace=True)\n",
    "    monthAsString = {1:'Jan', 2:'Feb', 3:'Mar', 4:'Apr', 5:'May', 6:'Jun',\n",
    "                     7:'Jul', 8:'Aug', 9:'Sept', 10:'Oct', 11:'Nov', 12:'Dec'}\n",
    "\n",
    "    # Using string format of month names to extract info from promo interval column                 \n",
    "    df['SMonth'] = df.Month.map(monthAsString)\n",
    "    # Fixing NaN values in promo interval when there is no promotion\n",
    "    df.loc[df.PromoInterval==0,'PromoInterval'] = ''\n",
    "\n",
    "    # New feature: \n",
    "    #     IsPromo2Month: \n",
    "    #     0 if month is not among PromoInterval\n",
    "    #     1 if it is\n",
    "\n",
    "\n",
    "    df['IsPromo2Month'] = 0\n",
    "    for interval in df.PromoInterval.unique():\n",
    "        if interval != '':\n",
    "            for month in interval.split(','):\n",
    "                condmatch = (df.SMonth == month) & (df.PromoInterval == interval)\n",
    "                # If promo started this year, Week of Year must be > Promo2SinceWeek\n",
    "                cond1 = (condmatch & (df.Year == df.Promo2SinceYear)\n",
    "                         & (df.WeekOfYear >= df.Promo2SinceWeek) )\n",
    "                # Or If promo started previous year, Week of Year doesn't matter\n",
    "                cond2 = condmatch & (df.Year > df.Promo2SinceYear)\n",
    "                fullcond = cond1 | cond2\n",
    "                df.loc[fullcond, 'IsPromo2Month'] = 1\n",
    "\n",
    "     # ======= Fixing Competition =============\n",
    "    df.CompetitionOpenSinceYear.fillna(0,inplace=True)\n",
    "    df.CompetitionOpenSinceMonth.fillna(0,inplace=True)\n",
    "\n",
    "    # New feature: \n",
    "    #    Competition:\n",
    "    #    1 if there exist a compettion at date = today\n",
    "    #    0 otherwise\n",
    "\n",
    "    df['Competition'] = 0\n",
    "    cond1 = df.Year > df.CompetitionOpenSinceYear\n",
    "    cond2 = ((df.Year == df.CompetitionOpenSinceYear)\n",
    "             & (df.Month >= df.CompetitionOpenSinceMonth))\n",
    "    fullcond = cond1 | cond2\n",
    "    df.loc[fullcond, 'Competition'] = 1\n",
    "\n",
    "    if (drop):\n",
    "        df = df.drop(['SMonth','PromoInterval','Promo2SinceYear','Promo2SinceWeek'],1)\n",
    "        df = df.drop(['CompetitionOpenSinceMonth','CompetitionOpenSinceYear'],1)\n",
    "\n",
    "    return df\n",
    "\n",
    "train = cleanPromoCompetition(train,drop=True)\n",
    "test = cleanPromoCompetition(test,drop=True)"
   ]
  },
  {
   "cell_type": "code",
   "execution_count": 6,
   "metadata": {
    "collapsed": true
   },
   "outputs": [],
   "source": [
    "trainOpen = train[train.Open == 1][['Store','YearMonth','Sales']]\n",
    "monthlySale  = trainOpen.groupby(['Store','YearMonth'],as_index=False).mean()\n",
    "\n",
    "\n",
    "#====== Finding renovated stores ========\n",
    "\n",
    "renovatedStores = []\n",
    "for store in train.Store.unique():\n",
    "    # Renovated stores are close before 2015 for more than 2 month\n",
    "    if len(monthlySale[monthlySale.Store==store]) < 29:\n",
    "        renovatedStores.append(store)\n",
    "\n",
    "\n",
    "#print(renovatedStores)\n",
    "\n",
    "def createRenovation(df,renovatedStores):\n",
    "\n",
    "    # New features:\n",
    "    # StoreRenovated: 1 if it is, 0 otherwise\n",
    "    # DaysAfterRenovation: 0 if date is before renovation, 1 if it is after\n",
    "    df['StoreRenovated'] = 0\n",
    "    df['DaysAfterRenovation'] = 0\n",
    "    for store in renovatedStores:\n",
    "        df.loc[df.Store == store,'StoreRenovated'] = 1\n",
    "        # Renovated stores are back to open state in 2015\n",
    "        df.loc[(df.Store == store) & (df.Year == 2015), 'DaysAfterRenovation'] = 1\n",
    "\n",
    "    return df\n",
    "\n",
    "\n",
    "train = createRenovation(train,renovatedStores)\n",
    "test  = createRenovation(test,renovatedStores)\n",
    "\n",
    "\n",
    "\n",
    "monthlySale['MonthSale'] = monthlySale.Sales\n",
    "monthlySale = monthlySale.drop(['Sales'],1)\n",
    "\n",
    "# New feature: MonthSale:\n",
    "# Average of monthly sale for each store\n",
    "# Adding monthly sale to train set:\n",
    "train = pd.merge(train,monthlySale,on=['Store','YearMonth'])\n",
    "\n",
    "\n",
    "# Small NaN Fix on test, only 1 case which is in fact open\n",
    "test.Open.fillna(1,inplace=True)\n",
    "\n",
    "\n",
    "#train = train.sort_values(by = 'Date')\n",
    "train.to_csv('D://kishore//trainCleaned.csv')\n",
    "test.to_csv('D://kishore//testCleaned.csv')\n"
   ]
  },
  {
   "cell_type": "markdown",
   "metadata": {},
   "source": [
    "# Seasonality / Sale Trend and Regression"
   ]
  },
  {
   "cell_type": "markdown",
   "metadata": {},
   "source": [
    "After exploring the data, we first look into the daily sale and build an “average” sale window for each month using a regression model (spline fit). Note that we fit to the after renovated data separately, as well as we fit to the days with promotions separately.\n",
    "\n",
    "Before looking at the R code, let’s take a look at some examples of sale trends of the 2 years for some of the stores: (magenta indicates days with promotion, cyan is without promotion)\n",
    "\n",
    "The curved “line dots” indicates the result of the spline regression. The tail black/grey color indicates the extrapolation of the trend to the test set that is outside the range date for the train set.\n",
    "\n",
    "The gap indicates renovation, the fit to the data after renovation is independent of previous sale before renovation."
   ]
  },
  {
   "cell_type": "code",
   "execution_count": 9,
   "metadata": {},
   "outputs": [
    {
     "data": {
      "text/plain": [
       "Index(['Store', 'DayOfWeek', 'Date', 'Sales', 'Customers', 'Open', 'Promo',\n",
       "       'StateHoliday', 'SchoolHoliday', 'StoreType', 'Assortment',\n",
       "       'CompetitionDistance', 'Promo2', 'Month', 'Year', 'Day', 'WeekOfYear',\n",
       "       'YearMonth', 'IsPromo2Month', 'Competition', 'StoreRenovated',\n",
       "       'DaysAfterRenovation', 'MonthSale'],\n",
       "      dtype='object')"
      ]
     },
     "execution_count": 9,
     "metadata": {},
     "output_type": "execute_result"
    }
   ],
   "source": [
    "train_r.columns"
   ]
  },
  {
   "cell_type": "code",
   "execution_count": 11,
   "metadata": {
    "collapsed": true
   },
   "outputs": [],
   "source": [
    "train_r = pd.read_csv('D://kishore//trainCleaned.csv')\n",
    "test_r = pd.read_csv('D://kishore//testCleaned.csv')\n",
    "\n",
    "train_r.drop(['Unnamed: 0'], axis=1, inplace=True)\n",
    "test_r.drop(['Unnamed: 0'], axis=1, inplace=True)"
   ]
  },
  {
   "cell_type": "code",
   "execution_count": 19,
   "metadata": {},
   "outputs": [
    {
     "data": {
      "text/plain": [
       "5088.583138173302"
      ]
     },
     "execution_count": 19,
     "metadata": {},
     "output_type": "execute_result"
    }
   ],
   "source": [
    "train_r['CompetitionDistance'].mean()"
   ]
  },
  {
   "cell_type": "code",
   "execution_count": 20,
   "metadata": {},
   "outputs": [
    {
     "data": {
      "text/plain": [
       "5088.583138173302"
      ]
     },
     "execution_count": 20,
     "metadata": {},
     "output_type": "execute_result"
    }
   ],
   "source": [
    "test_r['CompetitionDistance'].mean()"
   ]
  },
  {
   "cell_type": "code",
   "execution_count": 21,
   "metadata": {
    "collapsed": true
   },
   "outputs": [],
   "source": [
    "train_r.CompetitionDistance = train_r.CompetitionDistance.fillna(value=train_r['CompetitionDistance'].mean())\n",
    "test_r.CompetitionDistance = test_r.CompetitionDistance.fillna(value=test_r['CompetitionDistance'].mean())"
   ]
  },
  {
   "cell_type": "code",
   "execution_count": 27,
   "metadata": {},
   "outputs": [
    {
     "data": {
      "text/plain": [
       "Id                     0\n",
       "Store                  0\n",
       "DayOfWeek              0\n",
       "Date                   0\n",
       "Open                   0\n",
       "Promo                  0\n",
       "StateHoliday           0\n",
       "SchoolHoliday          0\n",
       "StoreType              0\n",
       "Assortment             0\n",
       "CompetitionDistance    0\n",
       "Promo2                 0\n",
       "Month                  0\n",
       "Year                   0\n",
       "Day                    0\n",
       "WeekOfYear             0\n",
       "YearMonth              0\n",
       "IsPromo2Month          0\n",
       "Competition            0\n",
       "StoreRenovated         0\n",
       "DaysAfterRenovation    0\n",
       "dtype: int64"
      ]
     },
     "execution_count": 27,
     "metadata": {},
     "output_type": "execute_result"
    }
   ],
   "source": [
    "train_r.isnull().sum()\n",
    "test_r.isnull().sum()"
   ]
  },
  {
   "cell_type": "code",
   "execution_count": 41,
   "metadata": {},
   "outputs": [
    {
     "data": {
      "text/plain": [
       "Index(['Store', 'DayOfWeek', 'Date', 'Sales', 'Customers', 'Open', 'Promo',\n",
       "       'StateHoliday', 'SchoolHoliday', 'StoreType', 'Assortment',\n",
       "       'CompetitionDistance', 'Promo2', 'Month', 'Year', 'Day', 'WeekOfYear',\n",
       "       'IsPromo2Month', 'Competition', 'StoreRenovated', 'DaysAfterRenovation',\n",
       "       'MonthSale', 'YearTrend', 'TimeInMonth'],\n",
       "      dtype='object')"
      ]
     },
     "execution_count": 41,
     "metadata": {},
     "output_type": "execute_result"
    }
   ],
   "source": [
    "train_r.columns"
   ]
  },
  {
   "cell_type": "code",
   "execution_count": 42,
   "metadata": {},
   "outputs": [
    {
     "data": {
      "text/html": [
       "<div>\n",
       "<style>\n",
       "    .dataframe thead tr:only-child th {\n",
       "        text-align: right;\n",
       "    }\n",
       "\n",
       "    .dataframe thead th {\n",
       "        text-align: left;\n",
       "    }\n",
       "\n",
       "    .dataframe tbody tr th {\n",
       "        vertical-align: top;\n",
       "    }\n",
       "</style>\n",
       "<table border=\"1\" class=\"dataframe\">\n",
       "  <thead>\n",
       "    <tr style=\"text-align: right;\">\n",
       "      <th></th>\n",
       "      <th>Store</th>\n",
       "      <th>DayOfWeek</th>\n",
       "      <th>Date</th>\n",
       "      <th>Sales</th>\n",
       "      <th>Customers</th>\n",
       "      <th>Open</th>\n",
       "      <th>Promo</th>\n",
       "      <th>StateHoliday</th>\n",
       "      <th>SchoolHoliday</th>\n",
       "      <th>StoreType</th>\n",
       "      <th>...</th>\n",
       "      <th>Year</th>\n",
       "      <th>Day</th>\n",
       "      <th>WeekOfYear</th>\n",
       "      <th>IsPromo2Month</th>\n",
       "      <th>Competition</th>\n",
       "      <th>StoreRenovated</th>\n",
       "      <th>DaysAfterRenovation</th>\n",
       "      <th>MonthSale</th>\n",
       "      <th>YearTrend</th>\n",
       "      <th>TimeInMonth</th>\n",
       "    </tr>\n",
       "  </thead>\n",
       "  <tbody>\n",
       "    <tr>\n",
       "      <th>5</th>\n",
       "      <td>1</td>\n",
       "      <td>7</td>\n",
       "      <td>2015-07-26</td>\n",
       "      <td>0</td>\n",
       "      <td>0</td>\n",
       "      <td>0</td>\n",
       "      <td>0</td>\n",
       "      <td>0</td>\n",
       "      <td>0.0</td>\n",
       "      <td>c</td>\n",
       "      <td>...</td>\n",
       "      <td>2015</td>\n",
       "      <td>26</td>\n",
       "      <td>30</td>\n",
       "      <td>0</td>\n",
       "      <td>1</td>\n",
       "      <td>0</td>\n",
       "      <td>0</td>\n",
       "      <td>4491.333333</td>\n",
       "      <td>0</td>\n",
       "      <td>31</td>\n",
       "    </tr>\n",
       "    <tr>\n",
       "      <th>12</th>\n",
       "      <td>1</td>\n",
       "      <td>7</td>\n",
       "      <td>2015-07-19</td>\n",
       "      <td>0</td>\n",
       "      <td>0</td>\n",
       "      <td>0</td>\n",
       "      <td>0</td>\n",
       "      <td>0</td>\n",
       "      <td>0.0</td>\n",
       "      <td>c</td>\n",
       "      <td>...</td>\n",
       "      <td>2015</td>\n",
       "      <td>19</td>\n",
       "      <td>29</td>\n",
       "      <td>0</td>\n",
       "      <td>1</td>\n",
       "      <td>0</td>\n",
       "      <td>0</td>\n",
       "      <td>4491.333333</td>\n",
       "      <td>0</td>\n",
       "      <td>31</td>\n",
       "    </tr>\n",
       "    <tr>\n",
       "      <th>19</th>\n",
       "      <td>1</td>\n",
       "      <td>7</td>\n",
       "      <td>2015-07-12</td>\n",
       "      <td>0</td>\n",
       "      <td>0</td>\n",
       "      <td>0</td>\n",
       "      <td>0</td>\n",
       "      <td>0</td>\n",
       "      <td>0.0</td>\n",
       "      <td>c</td>\n",
       "      <td>...</td>\n",
       "      <td>2015</td>\n",
       "      <td>12</td>\n",
       "      <td>28</td>\n",
       "      <td>0</td>\n",
       "      <td>1</td>\n",
       "      <td>0</td>\n",
       "      <td>0</td>\n",
       "      <td>4491.333333</td>\n",
       "      <td>0</td>\n",
       "      <td>31</td>\n",
       "    </tr>\n",
       "    <tr>\n",
       "      <th>26</th>\n",
       "      <td>1</td>\n",
       "      <td>7</td>\n",
       "      <td>2015-07-05</td>\n",
       "      <td>0</td>\n",
       "      <td>0</td>\n",
       "      <td>0</td>\n",
       "      <td>0</td>\n",
       "      <td>0</td>\n",
       "      <td>0.0</td>\n",
       "      <td>c</td>\n",
       "      <td>...</td>\n",
       "      <td>2015</td>\n",
       "      <td>5</td>\n",
       "      <td>27</td>\n",
       "      <td>0</td>\n",
       "      <td>1</td>\n",
       "      <td>0</td>\n",
       "      <td>0</td>\n",
       "      <td>4491.333333</td>\n",
       "      <td>0</td>\n",
       "      <td>31</td>\n",
       "    </tr>\n",
       "    <tr>\n",
       "      <th>33</th>\n",
       "      <td>1</td>\n",
       "      <td>7</td>\n",
       "      <td>2015-06-28</td>\n",
       "      <td>0</td>\n",
       "      <td>0</td>\n",
       "      <td>0</td>\n",
       "      <td>0</td>\n",
       "      <td>0</td>\n",
       "      <td>0.0</td>\n",
       "      <td>c</td>\n",
       "      <td>...</td>\n",
       "      <td>2015</td>\n",
       "      <td>28</td>\n",
       "      <td>26</td>\n",
       "      <td>0</td>\n",
       "      <td>1</td>\n",
       "      <td>0</td>\n",
       "      <td>0</td>\n",
       "      <td>4400.440000</td>\n",
       "      <td>0</td>\n",
       "      <td>30</td>\n",
       "    </tr>\n",
       "  </tbody>\n",
       "</table>\n",
       "<p>5 rows × 24 columns</p>\n",
       "</div>"
      ],
      "text/plain": [
       "    Store  DayOfWeek        Date  Sales  Customers  Open  Promo StateHoliday  \\\n",
       "5       1          7  2015-07-26      0          0     0      0            0   \n",
       "12      1          7  2015-07-19      0          0     0      0            0   \n",
       "19      1          7  2015-07-12      0          0     0      0            0   \n",
       "26      1          7  2015-07-05      0          0     0      0            0   \n",
       "33      1          7  2015-06-28      0          0     0      0            0   \n",
       "\n",
       "    SchoolHoliday StoreType     ...       Year  Day  WeekOfYear  \\\n",
       "5             0.0         c     ...       2015   26          30   \n",
       "12            0.0         c     ...       2015   19          29   \n",
       "19            0.0         c     ...       2015   12          28   \n",
       "26            0.0         c     ...       2015    5          27   \n",
       "33            0.0         c     ...       2015   28          26   \n",
       "\n",
       "    IsPromo2Month  Competition  StoreRenovated  DaysAfterRenovation  \\\n",
       "5               0            1               0                    0   \n",
       "12              0            1               0                    0   \n",
       "19              0            1               0                    0   \n",
       "26              0            1               0                    0   \n",
       "33              0            1               0                    0   \n",
       "\n",
       "      MonthSale  YearTrend  TimeInMonth  \n",
       "5   4491.333333          0           31  \n",
       "12  4491.333333          0           31  \n",
       "19  4491.333333          0           31  \n",
       "26  4491.333333          0           31  \n",
       "33  4400.440000          0           30  \n",
       "\n",
       "[5 rows x 24 columns]"
      ]
     },
     "execution_count": 42,
     "metadata": {},
     "output_type": "execute_result"
    }
   ],
   "source": [
    "train_r.describe()"
   ]
  },
  {
   "cell_type": "code",
   "execution_count": 38,
   "metadata": {},
   "outputs": [
    {
     "data": {
      "text/plain": [
       "Index(['Id', 'Store', 'DayOfWeek', 'Date', 'Open', 'Promo', 'StateHoliday',\n",
       "       'SchoolHoliday', 'StoreType', 'Assortment', 'CompetitionDistance',\n",
       "       'Promo2', 'Month', 'Year', 'Day', 'WeekOfYear', 'IsPromo2Month',\n",
       "       'Competition', 'StoreRenovated', 'DaysAfterRenovation', 'YearTrend'],\n",
       "      dtype='object')"
      ]
     },
     "execution_count": 38,
     "metadata": {},
     "output_type": "execute_result"
    }
   ],
   "source": [
    "test_r.columns"
   ]
  },
  {
   "cell_type": "code",
   "execution_count": null,
   "metadata": {
    "collapsed": true
   },
   "outputs": [],
   "source": [
    "test_r.describe()"
   ]
  },
  {
   "cell_type": "code",
   "execution_count": 35,
   "metadata": {},
   "outputs": [],
   "source": [
    "train_r.drop(train_r[train_r.Open == 1].index, inplace=True)\n",
    "train_r.drop(train_r[train_r.Sales != 0].index, inplace=True)\n"
   ]
  },
  {
   "cell_type": "code",
   "execution_count": 36,
   "metadata": {
    "collapsed": true
   },
   "outputs": [],
   "source": [
    "train_r.drop(['YearMonth'], axis=1, inplace=True)\n",
    "test_r.drop(['YearMonth'], axis=1, inplace=True)"
   ]
  },
  {
   "cell_type": "code",
   "execution_count": 37,
   "metadata": {
    "collapsed": true
   },
   "outputs": [],
   "source": [
    "train_r['YearTrend']=0\n",
    "test_r['YearTrend']=0\n",
    "train_r['TimeInMonth'] = (train_r['Year'] - 2013)*12 + train_r['Month']\n",
    "test_r['TimeInMonth'] = (test_r['Year'] - 2013)*12 + test_r['Month']"
   ]
  },
  {
   "cell_type": "code",
   "execution_count": 47,
   "metadata": {},
   "outputs": [],
   "source": [
    "growthfitnopromo = None\n",
    "growthfitwithpromo = None\n",
    "growthfit0nopromo = None\n",
    "growthfit0withpromo = None\n",
    "growthfit1nopromo = None\n",
    "growthfit1withpromo = None"
   ]
  },
  {
   "cell_type": "code",
   "execution_count": 40,
   "metadata": {
    "collapsed": true
   },
   "outputs": [],
   "source": []
  },
  {
   "cell_type": "code",
   "execution_count": null,
   "metadata": {
    "collapsed": true
   },
   "outputs": [],
   "source": [
    "setwd(\"~/kaggleout/rossman\")\n",
    "for (i in unique(train$Store)) {\n",
    "\n",
    "cat(\"fitting store i=\",i,\"\\n\")\n",
    "\n",
    "# Removing December from linear reg. since it is an outlier in most of the stores, \n",
    "# The feature will be picked up by a decision tree model, aka. XGBoost \n",
    "Store <- train[train$Store==i & train$Month !=12,]\n",
    "\n",
    "if (Store$StoreRenovated[1] == 0) {\n",
    "\n",
    "  #=======Without Promo =============\n",
    "  x <- as.integer(Store[Store$Promo==0,]$Date)\n",
    "  y <- Store[Store$Promo==0,]$Sales\n",
    "\n",
    "  growthfitnopromo[[i]] <- lm(y~ns(x,df=2))\n",
    "\n",
    "  plot(Store$Date,Store$Sales,pch=19,col=Store$Promo+5,\n",
    "       xlab=\"date\",ylab=\"sale\",main = paste0(\"Store = \",as.character(i)))\n",
    "\n",
    "  xx <- as.integer(train[train$Store==i & train$Promo==0,]$Date)\n",
    "  yy <- predict(growthfitnopromo[[i]],data.frame(x=xx))\n",
    "  points(xx,yy,col=\"orange\")\n",
    "  train[train$Store==i & train$Promo==0,]$YearTrend <- yy\n",
    "\n",
    "  if (i %in% unique(test$Store)) {\n",
    "    xx <- as.integer(test[test$Store==i & test$Promo==0,]$Date)\n",
    "    yy <- predict(growthfitnopromo[[i]],data.frame(x=xx))\n",
    "    test[test$Store==i & test$Promo==0,]$YearTrend <- yy\n",
    "  }\n",
    "\n",
    "  #======= With Promo =============\n",
    "\n",
    "  x <- as.integer(Store[Store$Promo==1,]$Date)\n",
    "  y <- Store[Store$Promo==1,]$Sales\n",
    "\n",
    "  growthfitwithpromo[[i]] <- lm(y~ns(x,df=2))\n",
    "\n",
    "\n",
    "  xx <- as.integer(train[train$Store==i & train$Promo==1,]$Date)\n",
    "  yy <- predict(growthfitwithpromo[[i]],data.frame(x=xx))\n",
    "  points(xx,yy,col=\"blue\")\n",
    "  train[train$Store==i & train$Promo==1,]$YearTrend <- yy\n",
    "\n",
    "  if (i %in% unique(test$Store)) {\n",
    "    xx <- as.integer(test[test$Store==i & test$Promo==1,]$Date)\n",
    "    yy <- predict(growthfitwithpromo[[i]],data.frame(x=xx))\n",
    "    test[test$Store==i & test$Promo==1,]$YearTrend <- yy\n",
    "    points(test[test$Store==i,]$Date,test[test$Store==i,]$YearTrend,col=24+test$Promo)\n",
    "  }\n",
    "\n",
    "} # End of store *not* renovated \n",
    "else {\n",
    "\n",
    "    # Fitting before renovation:\n",
    "\n",
    "    #=======Without Promo =============\n",
    "    x <- as.integer(Store[Store$DaysAfterRenovation==0 &Store$Promo==0,]$Date)\n",
    "    y <- Store[Store$DaysAfterRenovation==0&Store$Promo==0,]$Sales\n",
    "\n",
    "    growthfit0nopromo[[i]] <- lm(y~ns(x,df=2))\n",
    "\n",
    "    plot(as.integer(Store$Date),Store$Sales,pch=19,col=Store$Promo+5,\n",
    "         xlab=\"date\",ylab=\"sale\",main = paste0(\"Store = \",as.character(i)))\n",
    "\n",
    "    xx <- as.integer(train[train$Store==i & train$DaysAfterRenovation==0 & train$Promo==0,]$Date)\n",
    "    yy <- predict(growthfit0nopromo[[i]],data.frame(x=xx))\n",
    "    points(xx,yy,col=\"orange\")\n",
    "\n",
    "    train[train$Store==i & train$DaysAfterRenovation==0 &train$Promo==0,]$YearTrend <- yy\n",
    "\n",
    "\n",
    "    #=======With Promo =============\n",
    "\n",
    "    x <- as.integer(Store[Store$DaysAfterRenovation==0 &Store$Promo==1,]$Date)\n",
    "    y <- Store[Store$DaysAfterRenovation==0&Store$Promo==1,]$Sales\n",
    "\n",
    "    growthfit0withpromo[[i]] <- lm(y~ns(x,df=2))\n",
    "\n",
    "    xx <- as.integer(train[train$Store==i & train$DaysAfterRenovation==0 & train$Promo==1,]$Date)\n",
    "    yy <- predict(growthfit0withpromo[[i]],data.frame(x=xx))\n",
    "    points(xx,yy,col=\"blue\")\n",
    "\n",
    "    train[train$Store==i & train$DaysAfterRenovation==0 &train$Promo==1,]$YearTrend <- yy\n",
    "\n",
    "\n",
    "    # Fitting to after renovation: \n",
    "\n",
    "    #=======Without Promo =============\n",
    "    x <- as.integer(Store[Store$DaysAfterRenovation==1 & Store$Promo==0,]$Date)\n",
    "    y <- Store[Store$DaysAfterRenovation==1 & Store$Promo==0,]$Sales\n",
    "\n",
    "    growthfit1nopromo[[i]] <- lm(y~ns(x,df=1))\n",
    "\n",
    "\n",
    "    xx <- as.integer(train[train$Store==i & train$DaysAfterRenovation==1 & train$Promo==0,]$Date)\n",
    "    yy <- predict(growthfit1nopromo[[i]],data.frame(x=xx))\n",
    "    points(xx,yy,col=\"yellow\")\n",
    "    train[train$Store==i & train$DaysAfterRenovation==1 &train$Promo==0,]$YearTrend <- yy\n",
    "\n",
    "\n",
    "    if (i %in% unique(test$Store)) {\n",
    "\n",
    "      if (nrow(test[test$Store==i & test$DaysAfterRenovation==0,]) != 0) {\n",
    "         # If this happens, there is a bug in data cleaning process\n",
    "         stop(\"Something terrible happened!\")\n",
    "      }\n",
    "\n",
    "      xx <- as.integer(test[test$Store==i & test$Promo==0,]$Date)\n",
    "      yy <- predict(growthfit1nopromo[[i]],data.frame(x=xx))\n",
    "      test[test$Store==i & test$Promo==0,]$YearTrend <- yy\n",
    "    }\n",
    "    #=======With Promo =============\n",
    "\n",
    "\n",
    "    x <- as.integer(Store[Store$DaysAfterRenovation==1 & Store$Promo==1,]$Date)\n",
    "    y <- Store[Store$DaysAfterRenovation==1 & Store$Promo==1,]$Sales\n",
    "\n",
    "    growthfit1withpromo[[i]] <- lm(y~ns(x,df=1))\n",
    "\n",
    "\n",
    "    xx <- as.integer(train[train$Store==i & train$DaysAfterRenovation==1 & train$Promo==1,]$Date)\n",
    "    yy <- predict(growthfit1withpromo[[i]],data.frame(x=xx))\n",
    "    points(xx,yy,col=\"green\")\n",
    "    train[train$Store==i & train$DaysAfterRenovation==1 &train$Promo==1,]$YearTrend <- yy\n",
    "\n",
    "    if (i %in% unique(test$Store)) {\n",
    "\n",
    "       xx <- as.integer(test[test$Store==i &  test$Promo==1,]$Date)\n",
    "       yy <- predict(growthfit1withpromo[[i]],data.frame(x=xx))\n",
    "\n",
    "       test[test$Store==i & test$Promo==1,]$YearTrend <- yy\n",
    "\n",
    "       points(test[test$Store==i,]$Date,test[test$Store==i,]$YearTrend,col=24+test$Promo)\n",
    "    }\n",
    "  } #End of renovation = 1 \n",
    "fname<-paste0(\"Store_\",as.character(i),\"_SaleTrend.png\")\n",
    "dev.copy(png,file=fname); dev.off()\n",
    "}\n",
    "\n",
    "\n",
    "listoffits <- c(\"growthfitnopromo\",\"growthfitwithpromo\",\"growthfit0nopromo\",\n",
    "                \"growthfit0withpromo\",\"growthfit1nopromo\",\"growthfit1withpromo\")\n",
    "\n",
    "save(list=listoffits,file=\"~/all_fits_sep_pro_sep_renovation.RData\")\n",
    "\n",
    "\n",
    "# Subtracting the yearly trend of growth/decay of sale:\n",
    "train$Sales2 <- train$Sales\n",
    "train$Sales <- train$Sales - train$YearTrend\n",
    "\n",
    "#save(list=c(\"train\"),file=\"~/train_set_with_Year_Trend.RData\")\n",
    "#save(list=c(\"test\"),file=\"~/test_set_with_Year_Trend.RData\")\n"
   ]
  }
 ],
 "metadata": {
  "kernelspec": {
   "display_name": "Python 3",
   "language": "python",
   "name": "python3"
  },
  "language_info": {
   "codemirror_mode": {
    "name": "ipython",
    "version": 3
   },
   "file_extension": ".py",
   "mimetype": "text/x-python",
   "name": "python",
   "nbconvert_exporter": "python",
   "pygments_lexer": "ipython3",
   "version": "3.6.1"
  }
 },
 "nbformat": 4,
 "nbformat_minor": 2
}
