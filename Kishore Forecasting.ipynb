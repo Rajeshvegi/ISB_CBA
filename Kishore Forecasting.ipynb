{
 "cells": [
  {
   "cell_type": "code",
   "execution_count": 76,
   "metadata": {
    "collapsed": true
   },
   "outputs": [],
   "source": [
    "import pandas as pd\n",
    "import numpy as np\n",
    "import matplotlib.pyplot as plt\n",
    "import numpy as np\n",
    "from sklearn import linear_model\n",
    "from sklearn.metrics import mean_squared_error, r2_score\n",
    "import time\n",
    "from datetime import datetime\n",
    "import datetime\n",
    "\n",
    "types = {'CompetitionOpenSinceYear': np.dtype(int),\n",
    "         'CompetitionOpenSinceMonth': np.dtype(int),\n",
    "         'CompetitionDistance' : np.dtype(int),\n",
    "         'StateHoliday': np.dtype(str),\n",
    "         'Promo2SinceWeek': np.dtype(int),\n",
    "         'Promo2SinceYear': np.dtype(int),\n",
    "         'SchoolHoliday': np.dtype(float),\n",
    "         'PromoInterval': np.dtype(str)}"
   ]
  },
  {
   "cell_type": "code",
   "execution_count": 2,
   "metadata": {
    "collapsed": true
   },
   "outputs": [],
   "source": [
    "train = pd.read_csv('D://kishore//train.csv',\n",
    "                    parse_dates=['Date'], dtype=types)\n",
    "\n",
    "test = pd.read_csv('D://kishore//test.csv',\n",
    "                   parse_dates=['Date'],dtype=types)\n",
    "\n",
    "store = pd.read_csv('D://kishore//store.csv')"
   ]
  },
  {
   "cell_type": "code",
   "execution_count": 3,
   "metadata": {
    "collapsed": true
   },
   "outputs": [],
   "source": [
    "def calcDates(df):\n",
    "    df['Month'] = df.Date.dt.month\n",
    "    df['Year'] = df.Date.dt.year\n",
    "    df['Day'] = df.Date.dt.day\n",
    "    df['WeekOfYear'] = df.Date.dt.weekofyear\n",
    "    # Year-Month 2015-08 \n",
    "    # will be used for monthly sale calculation:\n",
    "    df['YearMonth'] = df['Date'].apply(lambda x:(str(x)[:7]))\n",
    "    return df\n",
    "\n",
    "\n",
    "train = pd.merge(train,store,on='Store')\n",
    "test = pd.merge(test,store,on='Store')\n",
    "\n",
    "train = calcDates(train)\n",
    "test = calcDates(test)"
   ]
  },
  {
   "cell_type": "code",
   "execution_count": 4,
   "metadata": {
    "collapsed": true
   },
   "outputs": [],
   "source": [
    "def cleanPromoCompetition(df,drop=False):\n",
    "    # ========== Fixing promo2 ============\n",
    "    df.PromoInterval.fillna(0,inplace=True)\n",
    "    monthAsString = {1:'Jan', 2:'Feb', 3:'Mar', 4:'Apr', 5:'May', 6:'Jun',\n",
    "                     7:'Jul', 8:'Aug', 9:'Sept', 10:'Oct', 11:'Nov', 12:'Dec'}\n",
    "\n",
    "    # Using string format of month names to extract info from promo interval column                 \n",
    "    df['SMonth'] = df.Month.map(monthAsString)\n",
    "    # Fixing NaN values in promo interval when there is no promotion\n",
    "    df.loc[df.PromoInterval==0,'PromoInterval'] = ''\n",
    "\n",
    "    # New feature: \n",
    "    #     IsPromo2Month: \n",
    "    #     0 if month is not among PromoInterval\n",
    "    #     1 if it is\n",
    "\n",
    "\n",
    "    df['IsPromo2Month'] = 0\n",
    "    for interval in df.PromoInterval.unique():\n",
    "        if interval != '':\n",
    "            for month in interval.split(','):\n",
    "                condmatch = (df.SMonth == month) & (df.PromoInterval == interval)\n",
    "                # If promo started this year, Week of Year must be > Promo2SinceWeek\n",
    "                cond1 = (condmatch & (df.Year == df.Promo2SinceYear)\n",
    "                         & (df.WeekOfYear >= df.Promo2SinceWeek) )\n",
    "                # Or If promo started previous year, Week of Year doesn't matter\n",
    "                cond2 = condmatch & (df.Year > df.Promo2SinceYear)\n",
    "                fullcond = cond1 | cond2\n",
    "                df.loc[fullcond, 'IsPromo2Month'] = 1\n",
    "\n",
    "     # ======= Fixing Competition =============\n",
    "    df.CompetitionOpenSinceYear.fillna(0,inplace=True)\n",
    "    df.CompetitionOpenSinceMonth.fillna(0,inplace=True)\n",
    "\n",
    "    # New feature: \n",
    "    #    Competition:\n",
    "    #    1 if there exist a compettion at date = today\n",
    "    #    0 otherwise\n",
    "\n",
    "    df['Competition'] = 0\n",
    "    cond1 = df.Year > df.CompetitionOpenSinceYear\n",
    "    cond2 = ((df.Year == df.CompetitionOpenSinceYear)\n",
    "             & (df.Month >= df.CompetitionOpenSinceMonth))\n",
    "    fullcond = cond1 | cond2\n",
    "    df.loc[fullcond, 'Competition'] = 1\n",
    "\n",
    "    if (drop):\n",
    "        df = df.drop(['SMonth','PromoInterval','Promo2SinceYear','Promo2SinceWeek'],1)\n",
    "        df = df.drop(['CompetitionOpenSinceMonth','CompetitionOpenSinceYear'],1)\n",
    "\n",
    "    return df\n",
    "\n",
    "train = cleanPromoCompetition(train,drop=True)\n",
    "test = cleanPromoCompetition(test,drop=True)"
   ]
  },
  {
   "cell_type": "code",
   "execution_count": 5,
   "metadata": {
    "collapsed": true
   },
   "outputs": [],
   "source": [
    "trainOpen = train[train.Open == 1][['Store','YearMonth','Sales']]\n",
    "monthlySale  = trainOpen.groupby(['Store','YearMonth'],as_index=False).mean()\n",
    "\n",
    "\n",
    "#====== Finding renovated stores ========\n",
    "\n",
    "renovatedStores = []\n",
    "for store in train.Store.unique():\n",
    "    # Renovated stores are close before 2015 for more than 2 month\n",
    "    if len(monthlySale[monthlySale.Store==store]) < 29:\n",
    "        renovatedStores.append(store)\n",
    "\n",
    "\n",
    "#print(renovatedStores)\n",
    "\n",
    "def createRenovation(df,renovatedStores):\n",
    "\n",
    "    # New features:\n",
    "    # StoreRenovated: 1 if it is, 0 otherwise\n",
    "    # DaysAfterRenovation: 0 if date is before renovation, 1 if it is after\n",
    "    df['StoreRenovated'] = 0\n",
    "    df['DaysAfterRenovation'] = 0\n",
    "    for store in renovatedStores:\n",
    "        df.loc[df.Store == store,'StoreRenovated'] = 1\n",
    "        # Renovated stores are back to open state in 2015\n",
    "        df.loc[(df.Store == store) & (df.Year == 2015), 'DaysAfterRenovation'] = 1\n",
    "\n",
    "    return df\n",
    "\n",
    "\n",
    "train = createRenovation(train,renovatedStores)\n",
    "test  = createRenovation(test,renovatedStores)\n",
    "\n",
    "\n",
    "\n",
    "monthlySale['MonthSale'] = monthlySale.Sales\n",
    "monthlySale = monthlySale.drop(['Sales'],1)\n",
    "\n",
    "# New feature: MonthSale:\n",
    "# Average of monthly sale for each store\n",
    "# Adding monthly sale to train set:\n",
    "train = pd.merge(train,monthlySale,on=['Store','YearMonth'])\n",
    "\n",
    "\n",
    "# Small NaN Fix on test, only 1 case which is in fact open\n",
    "test.Open.fillna(1,inplace=True)\n",
    "\n",
    "\n",
    "#train = train.sort_values(by = 'Date')\n",
    "train.to_csv('D://kishore//trainCleaned.csv')\n",
    "test.to_csv('D://kishore//testCleaned.csv')"
   ]
  },
  {
   "cell_type": "code",
   "execution_count": 119,
   "metadata": {
    "collapsed": true
   },
   "outputs": [],
   "source": [
    "train_r = pd.read_csv('D://kishore//trainCleaned_new.csv')\n",
    "test_r = pd.read_csv('D://kishore//testCleaned_new.csv')\n",
    "\n",
    "train_r.drop(['Unnamed: 0'], axis=1, inplace=True)\n",
    "test_r.drop(['Unnamed: 0'], axis=1, inplace=True)\n"
   ]
  },
  {
   "cell_type": "code",
   "execution_count": 120,
   "metadata": {},
   "outputs": [
    {
     "data": {
      "text/plain": [
       "1270.0"
      ]
     },
     "execution_count": 120,
     "metadata": {},
     "output_type": "execute_result"
    }
   ],
   "source": [
    "train_r['CompetitionDistance'].mean()\n"
   ]
  },
  {
   "cell_type": "code",
   "execution_count": 121,
   "metadata": {},
   "outputs": [
    {
     "data": {
      "text/plain": [
       "1270.0"
      ]
     },
     "execution_count": 121,
     "metadata": {},
     "output_type": "execute_result"
    }
   ],
   "source": [
    "test_r['CompetitionDistance'].mean()\n"
   ]
  },
  {
   "cell_type": "code",
   "execution_count": 122,
   "metadata": {
    "collapsed": true
   },
   "outputs": [],
   "source": [
    "train_r.CompetitionDistance = train_r.CompetitionDistance.fillna(value=train_r['CompetitionDistance'].mean())\n",
    "test_r.CompetitionDistance = test_r.CompetitionDistance.fillna(value=test_r['CompetitionDistance'].mean())"
   ]
  },
  {
   "cell_type": "code",
   "execution_count": 123,
   "metadata": {},
   "outputs": [
    {
     "data": {
      "text/plain": [
       "Id                     0\n",
       "Store                  0\n",
       "DayOfWeek              0\n",
       "Date                   0\n",
       "Open                   0\n",
       "Promo                  0\n",
       "StateHoliday           0\n",
       "SchoolHoliday          0\n",
       "StoreType              0\n",
       "Assortment             0\n",
       "CompetitionDistance    0\n",
       "Promo2                 0\n",
       "Month                  0\n",
       "Year                   0\n",
       "Day                    0\n",
       "WeekOfYear             0\n",
       "YearMonth              0\n",
       "IsPromo2Month          0\n",
       "Competition            0\n",
       "StoreRenovated         0\n",
       "DaysAfterRenovation    0\n",
       "dtype: int64"
      ]
     },
     "execution_count": 123,
     "metadata": {},
     "output_type": "execute_result"
    }
   ],
   "source": [
    "train_r.isnull().sum()\n",
    "test_r.isnull().sum()"
   ]
  },
  {
   "cell_type": "code",
   "execution_count": 124,
   "metadata": {},
   "outputs": [
    {
     "data": {
      "text/plain": [
       "Index(['Store', 'DayOfWeek', 'Date', 'Sales', 'Customers', 'Open', 'Promo',\n",
       "       'StateHoliday', 'SchoolHoliday', 'StoreType', 'Assortment',\n",
       "       'CompetitionDistance', 'Promo2', 'Month', 'Year', 'Day', 'WeekOfYear',\n",
       "       'YearMonth', 'IsPromo2Month', 'Competition', 'StoreRenovated',\n",
       "       'DaysAfterRenovation', 'MonthSale'],\n",
       "      dtype='object')"
      ]
     },
     "execution_count": 124,
     "metadata": {},
     "output_type": "execute_result"
    }
   ],
   "source": [
    "train_r.columns\n"
   ]
  },
  {
   "cell_type": "code",
   "execution_count": 125,
   "metadata": {},
   "outputs": [
    {
     "data": {
      "text/html": [
       "<div>\n",
       "<style>\n",
       "    .dataframe thead tr:only-child th {\n",
       "        text-align: right;\n",
       "    }\n",
       "\n",
       "    .dataframe thead th {\n",
       "        text-align: left;\n",
       "    }\n",
       "\n",
       "    .dataframe tbody tr th {\n",
       "        vertical-align: top;\n",
       "    }\n",
       "</style>\n",
       "<table border=\"1\" class=\"dataframe\">\n",
       "  <thead>\n",
       "    <tr style=\"text-align: right;\">\n",
       "      <th></th>\n",
       "      <th>Store</th>\n",
       "      <th>DayOfWeek</th>\n",
       "      <th>Date</th>\n",
       "      <th>Sales</th>\n",
       "      <th>Customers</th>\n",
       "      <th>Open</th>\n",
       "      <th>Promo</th>\n",
       "      <th>SchoolHoliday</th>\n",
       "      <th>CompetitionDistance</th>\n",
       "      <th>Promo2</th>\n",
       "      <th>Month</th>\n",
       "      <th>Year</th>\n",
       "      <th>Day</th>\n",
       "      <th>WeekOfYear</th>\n",
       "      <th>IsPromo2Month</th>\n",
       "      <th>Competition</th>\n",
       "      <th>StoreRenovated</th>\n",
       "      <th>DaysAfterRenovation</th>\n",
       "      <th>MonthSale</th>\n",
       "    </tr>\n",
       "  </thead>\n",
       "  <tbody>\n",
       "    <tr>\n",
       "      <th>count</th>\n",
       "      <td>942.0</td>\n",
       "      <td>942.000000</td>\n",
       "      <td>942.000000</td>\n",
       "      <td>942.000000</td>\n",
       "      <td>942.000000</td>\n",
       "      <td>942.000000</td>\n",
       "      <td>942.000000</td>\n",
       "      <td>942.000000</td>\n",
       "      <td>942.0</td>\n",
       "      <td>942.0</td>\n",
       "      <td>942.000000</td>\n",
       "      <td>942.000000</td>\n",
       "      <td>942.000000</td>\n",
       "      <td>942.000000</td>\n",
       "      <td>942.0</td>\n",
       "      <td>942.0</td>\n",
       "      <td>942.0</td>\n",
       "      <td>942.0</td>\n",
       "      <td>942.000000</td>\n",
       "    </tr>\n",
       "    <tr>\n",
       "      <th>mean</th>\n",
       "      <td>1.0</td>\n",
       "      <td>3.997877</td>\n",
       "      <td>41745.500000</td>\n",
       "      <td>3945.704883</td>\n",
       "      <td>467.646497</td>\n",
       "      <td>0.829087</td>\n",
       "      <td>0.382166</td>\n",
       "      <td>0.204883</td>\n",
       "      <td>1270.0</td>\n",
       "      <td>0.0</td>\n",
       "      <td>5.961783</td>\n",
       "      <td>2013.837580</td>\n",
       "      <td>15.707006</td>\n",
       "      <td>24.098726</td>\n",
       "      <td>0.0</td>\n",
       "      <td>1.0</td>\n",
       "      <td>0.0</td>\n",
       "      <td>0.0</td>\n",
       "      <td>4767.722074</td>\n",
       "    </tr>\n",
       "    <tr>\n",
       "      <th>std</th>\n",
       "      <td>0.0</td>\n",
       "      <td>1.998404</td>\n",
       "      <td>272.076276</td>\n",
       "      <td>2015.417840</td>\n",
       "      <td>228.930850</td>\n",
       "      <td>0.376633</td>\n",
       "      <td>0.486175</td>\n",
       "      <td>0.403831</td>\n",
       "      <td>0.0</td>\n",
       "      <td>0.0</td>\n",
       "      <td>3.350357</td>\n",
       "      <td>0.766009</td>\n",
       "      <td>8.794449</td>\n",
       "      <td>14.547508</td>\n",
       "      <td>0.0</td>\n",
       "      <td>0.0</td>\n",
       "      <td>0.0</td>\n",
       "      <td>0.0</td>\n",
       "      <td>514.934830</td>\n",
       "    </tr>\n",
       "    <tr>\n",
       "      <th>min</th>\n",
       "      <td>1.0</td>\n",
       "      <td>1.000000</td>\n",
       "      <td>41275.000000</td>\n",
       "      <td>0.000000</td>\n",
       "      <td>0.000000</td>\n",
       "      <td>0.000000</td>\n",
       "      <td>0.000000</td>\n",
       "      <td>0.000000</td>\n",
       "      <td>1270.0</td>\n",
       "      <td>0.0</td>\n",
       "      <td>1.000000</td>\n",
       "      <td>2013.000000</td>\n",
       "      <td>1.000000</td>\n",
       "      <td>1.000000</td>\n",
       "      <td>0.0</td>\n",
       "      <td>1.0</td>\n",
       "      <td>0.0</td>\n",
       "      <td>0.0</td>\n",
       "      <td>4092.230769</td>\n",
       "    </tr>\n",
       "    <tr>\n",
       "      <th>25%</th>\n",
       "      <td>1.0</td>\n",
       "      <td>2.000000</td>\n",
       "      <td>41510.250000</td>\n",
       "      <td>3588.250000</td>\n",
       "      <td>463.000000</td>\n",
       "      <td>1.000000</td>\n",
       "      <td>0.000000</td>\n",
       "      <td>0.000000</td>\n",
       "      <td>1270.0</td>\n",
       "      <td>0.0</td>\n",
       "      <td>3.000000</td>\n",
       "      <td>2013.000000</td>\n",
       "      <td>8.000000</td>\n",
       "      <td>12.000000</td>\n",
       "      <td>0.0</td>\n",
       "      <td>1.0</td>\n",
       "      <td>0.0</td>\n",
       "      <td>0.0</td>\n",
       "      <td>4443.125000</td>\n",
       "    </tr>\n",
       "    <tr>\n",
       "      <th>50%</th>\n",
       "      <td>1.0</td>\n",
       "      <td>4.000000</td>\n",
       "      <td>41745.500000</td>\n",
       "      <td>4373.500000</td>\n",
       "      <td>529.000000</td>\n",
       "      <td>1.000000</td>\n",
       "      <td>0.000000</td>\n",
       "      <td>0.000000</td>\n",
       "      <td>1270.0</td>\n",
       "      <td>0.0</td>\n",
       "      <td>6.000000</td>\n",
       "      <td>2014.000000</td>\n",
       "      <td>16.000000</td>\n",
       "      <td>23.000000</td>\n",
       "      <td>0.0</td>\n",
       "      <td>1.0</td>\n",
       "      <td>0.0</td>\n",
       "      <td>0.0</td>\n",
       "      <td>4600.076923</td>\n",
       "    </tr>\n",
       "    <tr>\n",
       "      <th>75%</th>\n",
       "      <td>1.0</td>\n",
       "      <td>6.000000</td>\n",
       "      <td>41980.750000</td>\n",
       "      <td>5220.000000</td>\n",
       "      <td>598.750000</td>\n",
       "      <td>1.000000</td>\n",
       "      <td>1.000000</td>\n",
       "      <td>0.000000</td>\n",
       "      <td>1270.0</td>\n",
       "      <td>0.0</td>\n",
       "      <td>9.000000</td>\n",
       "      <td>2014.000000</td>\n",
       "      <td>23.000000</td>\n",
       "      <td>36.000000</td>\n",
       "      <td>0.0</td>\n",
       "      <td>1.0</td>\n",
       "      <td>0.0</td>\n",
       "      <td>0.0</td>\n",
       "      <td>4907.538462</td>\n",
       "    </tr>\n",
       "    <tr>\n",
       "      <th>max</th>\n",
       "      <td>1.0</td>\n",
       "      <td>7.000000</td>\n",
       "      <td>42216.000000</td>\n",
       "      <td>9528.000000</td>\n",
       "      <td>1130.000000</td>\n",
       "      <td>1.000000</td>\n",
       "      <td>1.000000</td>\n",
       "      <td>1.000000</td>\n",
       "      <td>1270.0</td>\n",
       "      <td>0.0</td>\n",
       "      <td>12.000000</td>\n",
       "      <td>2015.000000</td>\n",
       "      <td>31.000000</td>\n",
       "      <td>52.000000</td>\n",
       "      <td>0.0</td>\n",
       "      <td>1.0</td>\n",
       "      <td>0.0</td>\n",
       "      <td>0.0</td>\n",
       "      <td>6441.040000</td>\n",
       "    </tr>\n",
       "  </tbody>\n",
       "</table>\n",
       "</div>"
      ],
      "text/plain": [
       "       Store   DayOfWeek          Date        Sales    Customers        Open  \\\n",
       "count  942.0  942.000000    942.000000   942.000000   942.000000  942.000000   \n",
       "mean     1.0    3.997877  41745.500000  3945.704883   467.646497    0.829087   \n",
       "std      0.0    1.998404    272.076276  2015.417840   228.930850    0.376633   \n",
       "min      1.0    1.000000  41275.000000     0.000000     0.000000    0.000000   \n",
       "25%      1.0    2.000000  41510.250000  3588.250000   463.000000    1.000000   \n",
       "50%      1.0    4.000000  41745.500000  4373.500000   529.000000    1.000000   \n",
       "75%      1.0    6.000000  41980.750000  5220.000000   598.750000    1.000000   \n",
       "max      1.0    7.000000  42216.000000  9528.000000  1130.000000    1.000000   \n",
       "\n",
       "            Promo  SchoolHoliday  CompetitionDistance  Promo2       Month  \\\n",
       "count  942.000000     942.000000                942.0   942.0  942.000000   \n",
       "mean     0.382166       0.204883               1270.0     0.0    5.961783   \n",
       "std      0.486175       0.403831                  0.0     0.0    3.350357   \n",
       "min      0.000000       0.000000               1270.0     0.0    1.000000   \n",
       "25%      0.000000       0.000000               1270.0     0.0    3.000000   \n",
       "50%      0.000000       0.000000               1270.0     0.0    6.000000   \n",
       "75%      1.000000       0.000000               1270.0     0.0    9.000000   \n",
       "max      1.000000       1.000000               1270.0     0.0   12.000000   \n",
       "\n",
       "              Year         Day  WeekOfYear  IsPromo2Month  Competition  \\\n",
       "count   942.000000  942.000000  942.000000          942.0        942.0   \n",
       "mean   2013.837580   15.707006   24.098726            0.0          1.0   \n",
       "std       0.766009    8.794449   14.547508            0.0          0.0   \n",
       "min    2013.000000    1.000000    1.000000            0.0          1.0   \n",
       "25%    2013.000000    8.000000   12.000000            0.0          1.0   \n",
       "50%    2014.000000   16.000000   23.000000            0.0          1.0   \n",
       "75%    2014.000000   23.000000   36.000000            0.0          1.0   \n",
       "max    2015.000000   31.000000   52.000000            0.0          1.0   \n",
       "\n",
       "       StoreRenovated  DaysAfterRenovation    MonthSale  \n",
       "count           942.0                942.0   942.000000  \n",
       "mean              0.0                  0.0  4767.722074  \n",
       "std               0.0                  0.0   514.934830  \n",
       "min               0.0                  0.0  4092.230769  \n",
       "25%               0.0                  0.0  4443.125000  \n",
       "50%               0.0                  0.0  4600.076923  \n",
       "75%               0.0                  0.0  4907.538462  \n",
       "max               0.0                  0.0  6441.040000  "
      ]
     },
     "execution_count": 125,
     "metadata": {},
     "output_type": "execute_result"
    }
   ],
   "source": [
    "train_r.describe()\n"
   ]
  },
  {
   "cell_type": "code",
   "execution_count": 126,
   "metadata": {
    "collapsed": true
   },
   "outputs": [],
   "source": [
    "train_r.drop(train_r[train_r.Open == 1].index, inplace=True)\n",
    "train_r.drop(train_r[train_r.Sales != 0].index, inplace=True)"
   ]
  },
  {
   "cell_type": "code",
   "execution_count": 127,
   "metadata": {
    "collapsed": true
   },
   "outputs": [],
   "source": [
    "train_r.drop(['YearMonth'], axis=1, inplace=True)\n",
    "test_r.drop(['YearMonth'], axis=1, inplace=True)"
   ]
  },
  {
   "cell_type": "code",
   "execution_count": 128,
   "metadata": {
    "collapsed": true
   },
   "outputs": [],
   "source": [
    "train_r['YearTrend']=0\n",
    "test_r['YearTrend']=0\n",
    "train_r['TimeInMonth'] = (train_r['Year'] - 2013)*12 + train_r['Month']\n",
    "test_r['TimeInMonth'] = (test_r['Year'] - 2013)*12 + test_r['Month']"
   ]
  },
  {
   "cell_type": "code",
   "execution_count": 129,
   "metadata": {
    "collapsed": true
   },
   "outputs": [],
   "source": [
    "growthfitnopromo = None\n",
    "growthfitwithpromo = None\n",
    "growthfit0nopromo = None\n",
    "growthfit0withpromo = None\n",
    "growthfit1nopromo = None\n",
    "growthfit1withpromo = None"
   ]
  },
  {
   "cell_type": "code",
   "execution_count": 130,
   "metadata": {},
   "outputs": [],
   "source": [
    "#for i in train_r['Date']:\n",
    " #   date_format = '%Y-%m-%d'\n",
    "  #  a = datetime.datetime.strptime('1899-12-30', date_format)\n",
    "   # b = datetime.datetime.strptime(d, date_format)\n",
    "   # delta = b - a\n",
    "   # train_r[i, 'date']= delta\n",
    "            "
   ]
  },
  {
   "cell_type": "code",
   "execution_count": 131,
   "metadata": {},
   "outputs": [
    {
     "name": "stderr",
     "output_type": "stream",
     "text": [
      "C:\\ProgramData\\Anaconda3\\lib\\site-packages\\ipykernel_launcher.py:4: UserWarning: Boolean Series key will be reindexed to match DataFrame index.\n",
      "  after removing the cwd from sys.path.\n"
     ]
    },
    {
     "ename": "ValueError",
     "evalue": "Expected 2D array, got 1D array instead:\narray=[42211 42204 42197 42190 42183 42176 42169 42162 42159 42155 42149 42148\n 42141 42138 42134 42127 42125 42120 42113 42106 42100 42099 42097 42092\n 42085 42078 42071 42064 42057 42050 42043 42036 42029 42022 42015 42008\n 42005 41973 41966 41959 41952 41945 41938 41931 41924 41917 41915 41910\n 41903 41896 41889 41882 41875 41868 41861 41854 41847 41840 41833 41826\n 41819 41812 41809 41805 41799 41798 41791 41788 41784 41777 41770 41763\n 41760 41756 41750 41749 41747 41742 41735 41728 41721 41714 41707 41700\n 41693 41686 41679 41672 41665 41658 41651 41644 41640 41602 41595 41588\n 41581 41574 41567 41560 41553 41550 41546 41539 41532 41525 41518 41511\n 41504 41497 41490 41483 41476 41469 41462 41455 41448 41441 41434 41427\n 41424 41420 41414 41413 41406 41403 41399 41395 41392 41385 41378 41371\n 41365 41364 41362 41357 41350 41343 41336 41329 41322 41315 41308 41301\n 41294 41287 41280 41275].\nReshape your data either using array.reshape(-1, 1) if your data has a single feature or array.reshape(1, -1) if it contains a single sample.",
     "output_type": "error",
     "traceback": [
      "\u001b[1;31m---------------------------------------------------------------------------\u001b[0m",
      "\u001b[1;31mValueError\u001b[0m                                Traceback (most recent call last)",
      "\u001b[1;32m<ipython-input-131-50cfa42de0df>\u001b[0m in \u001b[0;36m<module>\u001b[1;34m()\u001b[0m\n\u001b[0;32m     15\u001b[0m \u001b[1;33m\u001b[0m\u001b[0m\n\u001b[0;32m     16\u001b[0m \u001b[1;31m# Train the model using the training sets\u001b[0m\u001b[1;33m\u001b[0m\u001b[1;33m\u001b[0m\u001b[0m\n\u001b[1;32m---> 17\u001b[1;33m \u001b[0mregr\u001b[0m\u001b[1;33m.\u001b[0m\u001b[0mfit\u001b[0m\u001b[1;33m(\u001b[0m\u001b[0mx\u001b[0m\u001b[1;33m,\u001b[0m \u001b[0my\u001b[0m\u001b[1;33m)\u001b[0m\u001b[1;33m\u001b[0m\u001b[0m\n\u001b[0m\u001b[0;32m     18\u001b[0m \u001b[1;33m\u001b[0m\u001b[0m\n\u001b[0;32m     19\u001b[0m \u001b[1;31m# Make predictions using the testing set\u001b[0m\u001b[1;33m\u001b[0m\u001b[1;33m\u001b[0m\u001b[0m\n",
      "\u001b[1;32mC:\\ProgramData\\Anaconda3\\lib\\site-packages\\sklearn\\linear_model\\base.py\u001b[0m in \u001b[0;36mfit\u001b[1;34m(self, X, y, sample_weight)\u001b[0m\n\u001b[0;32m    480\u001b[0m         \u001b[0mn_jobs_\u001b[0m \u001b[1;33m=\u001b[0m \u001b[0mself\u001b[0m\u001b[1;33m.\u001b[0m\u001b[0mn_jobs\u001b[0m\u001b[1;33m\u001b[0m\u001b[0m\n\u001b[0;32m    481\u001b[0m         X, y = check_X_y(X, y, accept_sparse=['csr', 'csc', 'coo'],\n\u001b[1;32m--> 482\u001b[1;33m                          y_numeric=True, multi_output=True)\n\u001b[0m\u001b[0;32m    483\u001b[0m \u001b[1;33m\u001b[0m\u001b[0m\n\u001b[0;32m    484\u001b[0m         \u001b[1;32mif\u001b[0m \u001b[0msample_weight\u001b[0m \u001b[1;32mis\u001b[0m \u001b[1;32mnot\u001b[0m \u001b[1;32mNone\u001b[0m \u001b[1;32mand\u001b[0m \u001b[0mnp\u001b[0m\u001b[1;33m.\u001b[0m\u001b[0matleast_1d\u001b[0m\u001b[1;33m(\u001b[0m\u001b[0msample_weight\u001b[0m\u001b[1;33m)\u001b[0m\u001b[1;33m.\u001b[0m\u001b[0mndim\u001b[0m \u001b[1;33m>\u001b[0m \u001b[1;36m1\u001b[0m\u001b[1;33m:\u001b[0m\u001b[1;33m\u001b[0m\u001b[0m\n",
      "\u001b[1;32mC:\\ProgramData\\Anaconda3\\lib\\site-packages\\sklearn\\utils\\validation.py\u001b[0m in \u001b[0;36mcheck_X_y\u001b[1;34m(X, y, accept_sparse, dtype, order, copy, force_all_finite, ensure_2d, allow_nd, multi_output, ensure_min_samples, ensure_min_features, y_numeric, warn_on_dtype, estimator)\u001b[0m\n\u001b[0;32m    571\u001b[0m     X = check_array(X, accept_sparse, dtype, order, copy, force_all_finite,\n\u001b[0;32m    572\u001b[0m                     \u001b[0mensure_2d\u001b[0m\u001b[1;33m,\u001b[0m \u001b[0mallow_nd\u001b[0m\u001b[1;33m,\u001b[0m \u001b[0mensure_min_samples\u001b[0m\u001b[1;33m,\u001b[0m\u001b[1;33m\u001b[0m\u001b[0m\n\u001b[1;32m--> 573\u001b[1;33m                     ensure_min_features, warn_on_dtype, estimator)\n\u001b[0m\u001b[0;32m    574\u001b[0m     \u001b[1;32mif\u001b[0m \u001b[0mmulti_output\u001b[0m\u001b[1;33m:\u001b[0m\u001b[1;33m\u001b[0m\u001b[0m\n\u001b[0;32m    575\u001b[0m         y = check_array(y, 'csr', force_all_finite=True, ensure_2d=False,\n",
      "\u001b[1;32mC:\\ProgramData\\Anaconda3\\lib\\site-packages\\sklearn\\utils\\validation.py\u001b[0m in \u001b[0;36mcheck_array\u001b[1;34m(array, accept_sparse, dtype, order, copy, force_all_finite, ensure_2d, allow_nd, ensure_min_samples, ensure_min_features, warn_on_dtype, estimator)\u001b[0m\n\u001b[0;32m    439\u001b[0m                     \u001b[1;34m\"Reshape your data either using array.reshape(-1, 1) if \"\u001b[0m\u001b[1;33m\u001b[0m\u001b[0m\n\u001b[0;32m    440\u001b[0m                     \u001b[1;34m\"your data has a single feature or array.reshape(1, -1) \"\u001b[0m\u001b[1;33m\u001b[0m\u001b[0m\n\u001b[1;32m--> 441\u001b[1;33m                     \"if it contains a single sample.\".format(array))\n\u001b[0m\u001b[0;32m    442\u001b[0m             \u001b[0marray\u001b[0m \u001b[1;33m=\u001b[0m \u001b[0mnp\u001b[0m\u001b[1;33m.\u001b[0m\u001b[0matleast_2d\u001b[0m\u001b[1;33m(\u001b[0m\u001b[0marray\u001b[0m\u001b[1;33m)\u001b[0m\u001b[1;33m\u001b[0m\u001b[0m\n\u001b[0;32m    443\u001b[0m             \u001b[1;31m# To ensure that array flags are maintained\u001b[0m\u001b[1;33m\u001b[0m\u001b[1;33m\u001b[0m\u001b[0m\n",
      "\u001b[1;31mValueError\u001b[0m: Expected 2D array, got 1D array instead:\narray=[42211 42204 42197 42190 42183 42176 42169 42162 42159 42155 42149 42148\n 42141 42138 42134 42127 42125 42120 42113 42106 42100 42099 42097 42092\n 42085 42078 42071 42064 42057 42050 42043 42036 42029 42022 42015 42008\n 42005 41973 41966 41959 41952 41945 41938 41931 41924 41917 41915 41910\n 41903 41896 41889 41882 41875 41868 41861 41854 41847 41840 41833 41826\n 41819 41812 41809 41805 41799 41798 41791 41788 41784 41777 41770 41763\n 41760 41756 41750 41749 41747 41742 41735 41728 41721 41714 41707 41700\n 41693 41686 41679 41672 41665 41658 41651 41644 41640 41602 41595 41588\n 41581 41574 41567 41560 41553 41550 41546 41539 41532 41525 41518 41511\n 41504 41497 41490 41483 41476 41469 41462 41455 41448 41441 41434 41427\n 41424 41420 41414 41413 41406 41403 41399 41395 41392 41385 41378 41371\n 41365 41364 41362 41357 41350 41343 41336 41329 41322 41315 41308 41301\n 41294 41287 41280 41275].\nReshape your data either using array.reshape(-1, 1) if your data has a single feature or array.reshape(1, -1) if it contains a single sample."
     ]
    }
   ],
   "source": [
    "#x_values =pd.DataFrame()\n",
    "#for i in train_r['Store'].unique():\n",
    "    #print(\"fitting store i=\",i,\"\\n\")\n",
    "Store =  train_r[(train['Store']==1) & (train['Month'] !=12)][['Store', 'DayOfWeek', 'Date', 'Sales', \n",
    "                                                                                'Customers', 'Open', 'Promo','StateHoliday', \n",
    "                                                                                'SchoolHoliday', 'StoreType', 'Assortment',\n",
    "                                                                                'CompetitionDistance', 'Promo2', 'Month',\n",
    "                                                                                'Year', 'Day', 'WeekOfYear','IsPromo2Month',\n",
    "                                                                                'Competition', 'StoreRenovated',\n",
    "                                                                                'DaysAfterRenovation', 'MonthSale']]\n",
    "#if Store['StoreRenovated'].iloc[1] == 0:\n",
    "x = Store['Date']\n",
    "y = Store['Sales']\n",
    "regr = linear_model.LinearRegression()\n",
    "\n",
    "# Train the model using the training sets\n",
    "regr.fit(x, y)\n",
    "\n",
    "# Make predictions using the testing set\n",
    "Store_y_pred = regr.predict(test_r)"
   ]
  },
  {
   "cell_type": "code",
   "execution_count": null,
   "metadata": {
    "collapsed": true
   },
   "outputs": [],
   "source": []
  },
  {
   "cell_type": "code",
   "execution_count": 82,
   "metadata": {},
   "outputs": [
    {
     "name": "stdout",
     "output_type": "stream",
     "text": [
      "42211\n",
      "42204\n",
      "42197\n",
      "42190\n",
      "42183\n",
      "42176\n",
      "42169\n",
      "42162\n",
      "42159\n",
      "42155\n",
      "42149\n",
      "42148\n",
      "42141\n",
      "42138\n",
      "42134\n",
      "42127\n",
      "42125\n",
      "42120\n",
      "42113\n",
      "42106\n",
      "42100\n",
      "42099\n",
      "42097\n",
      "42092\n",
      "42085\n",
      "42078\n",
      "42071\n",
      "42064\n",
      "42057\n",
      "42050\n",
      "42043\n",
      "42036\n",
      "42029\n",
      "42022\n",
      "42015\n",
      "42008\n",
      "42005\n",
      "41973\n",
      "41966\n",
      "41959\n",
      "41952\n",
      "41945\n",
      "41938\n",
      "41931\n",
      "41924\n",
      "41917\n",
      "41915\n",
      "41910\n",
      "41903\n",
      "41896\n",
      "41889\n",
      "41882\n",
      "41875\n",
      "41868\n",
      "41861\n",
      "41854\n",
      "41847\n",
      "41840\n",
      "41833\n",
      "41826\n",
      "41819\n",
      "41812\n",
      "41809\n",
      "41805\n",
      "41799\n",
      "41798\n",
      "41791\n",
      "41788\n",
      "41784\n",
      "41777\n",
      "41770\n",
      "41763\n",
      "41760\n",
      "41756\n",
      "41750\n",
      "41749\n",
      "41747\n",
      "41742\n",
      "41735\n",
      "41728\n",
      "41721\n",
      "41714\n",
      "41707\n",
      "41700\n",
      "41693\n",
      "41686\n",
      "41679\n",
      "41672\n",
      "41665\n",
      "41658\n",
      "41651\n",
      "41644\n",
      "41640\n",
      "41602\n",
      "41595\n",
      "41588\n",
      "41581\n",
      "41574\n",
      "41567\n",
      "41560\n",
      "41553\n",
      "41550\n",
      "41546\n",
      "41539\n",
      "41532\n",
      "41525\n",
      "41518\n",
      "41511\n",
      "41504\n",
      "41497\n",
      "41490\n",
      "41483\n",
      "41476\n",
      "41469\n",
      "41462\n",
      "41455\n",
      "41448\n",
      "41441\n",
      "41434\n",
      "41427\n",
      "41424\n",
      "41420\n",
      "41414\n",
      "41413\n",
      "41406\n",
      "41403\n",
      "41399\n",
      "41395\n",
      "41392\n",
      "41385\n",
      "41378\n",
      "41371\n",
      "41365\n",
      "41364\n",
      "41362\n",
      "41357\n",
      "41350\n",
      "41343\n",
      "41336\n",
      "41329\n",
      "41322\n",
      "41315\n",
      "41308\n",
      "41301\n",
      "41294\n",
      "41287\n",
      "41280\n",
      "41275\n"
     ]
    },
    {
     "name": "stderr",
     "output_type": "stream",
     "text": [
      "C:\\ProgramData\\Anaconda3\\lib\\site-packages\\ipykernel_launcher.py:1: UserWarning: Boolean Series key will be reindexed to match DataFrame index.\n",
      "  \"\"\"Entry point for launching an IPython kernel.\n"
     ]
    }
   ],
   "source": [
    "Store =  train_r[(train['Store']==1) & (train['Month'] !=12)][['Store', 'DayOfWeek', 'Date', 'Sales', \n",
    "                                                                                'Customers', 'Open', 'Promo','StateHoliday', \n",
    "                                                                                'SchoolHoliday', 'StoreType', 'Assortment',\n",
    "                                                                                'CompetitionDistance', 'Promo2', 'Month',\n",
    "                                                                                'Year', 'Day', 'WeekOfYear','IsPromo2Month',\n",
    "                                                                                'Competition', 'StoreRenovated',\n",
    "                                                                                'DaysAfterRenovation', 'MonthSale']]\n",
    "if Store['StoreRenovated'].iloc[1] == 0:\n",
    "    date = ((Store['Date']))\n",
    "    for d in date:\n",
    "        date_format = '%Y-%m-%d'\n",
    "        a = datetime.datetime.strptime('1899-12-30', date_format)\n",
    "        b = datetime.datetime.strptime(d, date_format)\n",
    "        delta = b - a\n",
    "        print (delta.days) # that's it\n",
    "\n",
    "\n",
    "#    y = Store[Store['Promo']Promo==0,]Store['Sales']\n",
    "    "
   ]
  },
  {
   "cell_type": "code",
   "execution_count": 83,
   "metadata": {},
   "outputs": [],
   "source": [
    "def excel_date(date1):\n",
    "    date_format = '%Y-%m-%d'\n",
    "    a = datetime.datetime.strptime('1899-12-30', date_format)\n",
    "    b = datetime.datetime.strptime(date1, date_format)\n",
    "    delta = b - a\n",
    "    return delta"
   ]
  },
  {
   "cell_type": "code",
   "execution_count": 61,
   "metadata": {},
   "outputs": [
    {
     "name": "stderr",
     "output_type": "stream",
     "text": [
      "C:\\ProgramData\\Anaconda3\\lib\\site-packages\\ipykernel_launcher.py:1: UserWarning: Boolean Series key will be reindexed to match DataFrame index.\n",
      "  \"\"\"Entry point for launching an IPython kernel.\n"
     ]
    }
   ],
   "source": [
    " Store =  train_r[(train['Store']==1114) & (train['Month'] !=12)][['Store', 'DayOfWeek', 'Date', 'Sales', \n",
    "                                                                                'Customers', 'Open', 'Promo','StateHoliday', \n",
    "                                                                                'SchoolHoliday', 'StoreType', 'Assortment',\n",
    "                                                                                'CompetitionDistance', 'Promo2', 'Month',\n",
    "                                                                                'Year', 'Day', 'WeekOfYear','IsPromo2Month',\n",
    "                                                                                'Competition', 'StoreRenovated',\n",
    "                                                                                'DaysAfterRenovation', 'MonthSale']]\n",
    "    "
   ]
  },
  {
   "cell_type": "code",
   "execution_count": 88,
   "metadata": {},
   "outputs": [
    {
     "data": {
      "text/plain": [
       "datetime.timedelta(41275)"
      ]
     },
     "execution_count": 88,
     "metadata": {},
     "output_type": "execute_result"
    }
   ],
   "source": [
    "x"
   ]
  },
  {
   "cell_type": "code",
   "execution_count": null,
   "metadata": {
    "collapsed": true
   },
   "outputs": [],
   "source": []
  }
 ],
 "metadata": {
  "kernelspec": {
   "display_name": "Python 3",
   "language": "python",
   "name": "python3"
  },
  "language_info": {
   "codemirror_mode": {
    "name": "ipython",
    "version": 3
   },
   "file_extension": ".py",
   "mimetype": "text/x-python",
   "name": "python",
   "nbconvert_exporter": "python",
   "pygments_lexer": "ipython3",
   "version": "3.6.3"
  }
 },
 "nbformat": 4,
 "nbformat_minor": 2
}
