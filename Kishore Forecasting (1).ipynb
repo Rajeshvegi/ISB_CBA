{
 "cells": [
  {
   "cell_type": "code",
   "execution_count": 76,
   "metadata": {
    "collapsed": true
   },
   "outputs": [],
   "source": [
    "import pandas as pd\n",
    "import numpy as np\n",
    "import matplotlib.pyplot as plt\n",
    "import numpy as np\n",
    "from sklearn import linear_model\n",
    "from sklearn.metrics import mean_squared_error, r2_score\n",
    "import time\n",
    "from datetime import datetime\n",
    "import datetime\n",
    "\n",
    "types = {'CompetitionOpenSinceYear': np.dtype(int),\n",
    "         'CompetitionOpenSinceMonth': np.dtype(int),\n",
    "         'CompetitionDistance' : np.dtype(int),\n",
    "         'StateHoliday': np.dtype(str),\n",
    "         'Promo2SinceWeek': np.dtype(int),\n",
    "         'Promo2SinceYear': np.dtype(int),\n",
    "         'SchoolHoliday': np.dtype(float),\n",
    "         'PromoInterval': np.dtype(str)}"
   ]
  },
  {
   "cell_type": "code",
   "execution_count": 2,
   "metadata": {
    "collapsed": true
   },
   "outputs": [],
   "source": [
    "train = pd.read_csv('D://kishore//train.csv',\n",
    "                    parse_dates=['Date'], dtype=types)\n",
    "\n",
    "test = pd.read_csv('D://kishore//test.csv',\n",
    "                   parse_dates=['Date'],dtype=types)\n",
    "\n",
    "store = pd.read_csv('D://kishore//store.csv')"
   ]
  },
  {
   "cell_type": "code",
   "execution_count": 3,
   "metadata": {
    "collapsed": true
   },
   "outputs": [],
   "source": [
    "def calcDates(df):\n",
    "    df['Month'] = df.Date.dt.month\n",
    "    df['Year'] = df.Date.dt.year\n",
    "    df['Day'] = df.Date.dt.day\n",
    "    df['WeekOfYear'] = df.Date.dt.weekofyear\n",
    "    # Year-Month 2015-08 \n",
    "    # will be used for monthly sale calculation:\n",
    "    df['YearMonth'] = df['Date'].apply(lambda x:(str(x)[:7]))\n",
    "    return df\n",
    "\n",
    "\n",
    "train = pd.merge(train,store,on='Store')\n",
    "test = pd.merge(test,store,on='Store')\n",
    "\n",
    "train = calcDates(train)\n",
    "test = calcDates(test)"
   ]
  },
  {
   "cell_type": "code",
   "execution_count": 4,
   "metadata": {
    "collapsed": true
   },
   "outputs": [],
   "source": [
    "def cleanPromoCompetition(df,drop=False):\n",
    "    # ========== Fixing promo2 ============\n",
    "    df.PromoInterval.fillna(0,inplace=True)\n",
    "    monthAsString = {1:'Jan', 2:'Feb', 3:'Mar', 4:'Apr', 5:'May', 6:'Jun',\n",
    "                     7:'Jul', 8:'Aug', 9:'Sept', 10:'Oct', 11:'Nov', 12:'Dec'}\n",
    "\n",
    "    # Using string format of month names to extract info from promo interval column                 \n",
    "    df['SMonth'] = df.Month.map(monthAsString)\n",
    "    # Fixing NaN values in promo interval when there is no promotion\n",
    "    df.loc[df.PromoInterval==0,'PromoInterval'] = ''\n",
    "\n",
    "    # New feature: \n",
    "    #     IsPromo2Month: \n",
    "    #     0 if month is not among PromoInterval\n",
    "    #     1 if it is\n",
    "\n",
    "\n",
    "    df['IsPromo2Month'] = 0\n",
    "    for interval in df.PromoInterval.unique():\n",
    "        if interval != '':\n",
    "            for month in interval.split(','):\n",
    "                condmatch = (df.SMonth == month) & (df.PromoInterval == interval)\n",
    "                # If promo started this year, Week of Year must be > Promo2SinceWeek\n",
    "                cond1 = (condmatch & (df.Year == df.Promo2SinceYear)\n",
    "                         & (df.WeekOfYear >= df.Promo2SinceWeek) )\n",
    "                # Or If promo started previous year, Week of Year doesn't matter\n",
    "                cond2 = condmatch & (df.Year > df.Promo2SinceYear)\n",
    "                fullcond = cond1 | cond2\n",
    "                df.loc[fullcond, 'IsPromo2Month'] = 1\n",
    "\n",
    "     # ======= Fixing Competition =============\n",
    "    df.CompetitionOpenSinceYear.fillna(0,inplace=True)\n",
    "    df.CompetitionOpenSinceMonth.fillna(0,inplace=True)\n",
    "\n",
    "    # New feature: \n",
    "    #    Competition:\n",
    "    #    1 if there exist a compettion at date = today\n",
    "    #    0 otherwise\n",
    "\n",
    "    df['Competition'] = 0\n",
    "    cond1 = df.Year > df.CompetitionOpenSinceYear\n",
    "    cond2 = ((df.Year == df.CompetitionOpenSinceYear)\n",
    "             & (df.Month >= df.CompetitionOpenSinceMonth))\n",
    "    fullcond = cond1 | cond2\n",
    "    df.loc[fullcond, 'Competition'] = 1\n",
    "\n",
    "    if (drop):\n",
    "        df = df.drop(['SMonth','PromoInterval','Promo2SinceYear','Promo2SinceWeek'],1)\n",
    "        df = df.drop(['CompetitionOpenSinceMonth','CompetitionOpenSinceYear'],1)\n",
    "\n",
    "    return df\n",
    "\n",
    "train = cleanPromoCompetition(train,drop=True)\n",
    "test = cleanPromoCompetition(test,drop=True)"
   ]
  },
  {
   "cell_type": "code",
   "execution_count": 5,
   "metadata": {
    "collapsed": true
   },
   "outputs": [],
   "source": [
    "trainOpen = train[train.Open == 1][['Store','YearMonth','Sales']]\n",
    "monthlySale  = trainOpen.groupby(['Store','YearMonth'],as_index=False).mean()\n",
    "\n",
    "\n",
    "#====== Finding renovated stores ========\n",
    "\n",
    "renovatedStores = []\n",
    "for store in train.Store.unique():\n",
    "    # Renovated stores are close before 2015 for more than 2 month\n",
    "    if len(monthlySale[monthlySale.Store==store]) < 29:\n",
    "        renovatedStores.append(store)\n",
    "\n",
    "\n",
    "#print(renovatedStores)\n",
    "\n",
    "def createRenovation(df,renovatedStores):\n",
    "\n",
    "    # New features:\n",
    "    # StoreRenovated: 1 if it is, 0 otherwise\n",
    "    # DaysAfterRenovation: 0 if date is before renovation, 1 if it is after\n",
    "    df['StoreRenovated'] = 0\n",
    "    df['DaysAfterRenovation'] = 0\n",
    "    for store in renovatedStores:\n",
    "        df.loc[df.Store == store,'StoreRenovated'] = 1\n",
    "        # Renovated stores are back to open state in 2015\n",
    "        df.loc[(df.Store == store) & (df.Year == 2015), 'DaysAfterRenovation'] = 1\n",
    "\n",
    "    return df\n",
    "\n",
    "\n",
    "train = createRenovation(train,renovatedStores)\n",
    "test  = createRenovation(test,renovatedStores)\n",
    "\n",
    "\n",
    "\n",
    "monthlySale['MonthSale'] = monthlySale.Sales\n",
    "monthlySale = monthlySale.drop(['Sales'],1)\n",
    "\n",
    "# New feature: MonthSale:\n",
    "# Average of monthly sale for each store\n",
    "# Adding monthly sale to train set:\n",
    "train = pd.merge(train,monthlySale,on=['Store','YearMonth'])\n",
    "\n",
    "\n",
    "# Small NaN Fix on test, only 1 case which is in fact open\n",
    "test.Open.fillna(1,inplace=True)\n",
    "\n",
    "\n",
    "#train = train.sort_values(by = 'Date')\n",
    "train.to_csv('D://kishore//trainCleaned.csv')\n",
    "test.to_csv('D://kishore//testCleaned.csv')"
   ]
  },
  {
   "cell_type": "code",
   "execution_count": 157,
   "metadata": {
    "collapsed": true
   },
   "outputs": [],
   "source": [
    "train_r = pd.read_csv('D://kishore//trainCleaned_new.csv')\n",
    "test_r = pd.read_csv('D://kishore//testCleaned_new.csv')\n",
    "\n",
    "train_r.drop(['Unnamed: 0'], axis=1, inplace=True)\n",
    "test_r.drop(['Unnamed: 0'], axis=1, inplace=True)\n"
   ]
  },
  {
   "cell_type": "code",
   "execution_count": 158,
   "metadata": {},
   "outputs": [
    {
     "data": {
      "text/plain": [
       "1270.0"
      ]
     },
     "execution_count": 158,
     "metadata": {},
     "output_type": "execute_result"
    }
   ],
   "source": [
    "train_r['CompetitionDistance'].mean()\n"
   ]
  },
  {
   "cell_type": "code",
   "execution_count": 159,
   "metadata": {},
   "outputs": [
    {
     "data": {
      "text/plain": [
       "1270.0"
      ]
     },
     "execution_count": 159,
     "metadata": {},
     "output_type": "execute_result"
    }
   ],
   "source": [
    "test_r['CompetitionDistance'].mean()\n"
   ]
  },
  {
   "cell_type": "code",
   "execution_count": 160,
   "metadata": {
    "collapsed": true
   },
   "outputs": [],
   "source": [
    "train_r.CompetitionDistance = train_r.CompetitionDistance.fillna(value=train_r['CompetitionDistance'].mean())\n",
    "test_r.CompetitionDistance = test_r.CompetitionDistance.fillna(value=test_r['CompetitionDistance'].mean())"
   ]
  },
  {
   "cell_type": "code",
   "execution_count": 161,
   "metadata": {},
   "outputs": [
    {
     "data": {
      "text/plain": [
       "Id                     0\n",
       "Store                  0\n",
       "DayOfWeek              0\n",
       "Date                   0\n",
       "Open                   0\n",
       "Promo                  0\n",
       "StateHoliday           0\n",
       "SchoolHoliday          0\n",
       "StoreType              0\n",
       "Assortment             0\n",
       "CompetitionDistance    0\n",
       "Promo2                 0\n",
       "Month                  0\n",
       "Year                   0\n",
       "Day                    0\n",
       "WeekOfYear             0\n",
       "YearMonth              0\n",
       "IsPromo2Month          0\n",
       "Competition            0\n",
       "StoreRenovated         0\n",
       "DaysAfterRenovation    0\n",
       "dtype: int64"
      ]
     },
     "execution_count": 161,
     "metadata": {},
     "output_type": "execute_result"
    }
   ],
   "source": [
    "train_r.isnull().sum()\n",
    "test_r.isnull().sum()"
   ]
  },
  {
   "cell_type": "code",
   "execution_count": 162,
   "metadata": {},
   "outputs": [
    {
     "data": {
      "text/plain": [
       "Index(['Store', 'DayOfWeek', 'Date', 'Sales', 'Customers', 'Open', 'Promo',\n",
       "       'StateHoliday', 'SchoolHoliday', 'StoreType', 'Assortment',\n",
       "       'CompetitionDistance', 'Promo2', 'Month', 'Year', 'Day', 'WeekOfYear',\n",
       "       'YearMonth', 'IsPromo2Month', 'Competition', 'StoreRenovated',\n",
       "       'DaysAfterRenovation', 'MonthSale'],\n",
       "      dtype='object')"
      ]
     },
     "execution_count": 162,
     "metadata": {},
     "output_type": "execute_result"
    }
   ],
   "source": [
    "train_r.columns\n"
   ]
  },
  {
   "cell_type": "code",
   "execution_count": 165,
   "metadata": {
    "collapsed": true
   },
   "outputs": [],
   "source": [
    "train_r.drop(train_r[train_r.Open != 1].index, inplace=True)\n",
    "train_r.drop(train_r[train_r.Sales == 0].index, inplace=True)"
   ]
  },
  {
   "cell_type": "code",
   "execution_count": 166,
   "metadata": {
    "collapsed": true
   },
   "outputs": [],
   "source": [
    "train_r.drop(['YearMonth'], axis=1, inplace=True)\n",
    "test_r.drop(['YearMonth'], axis=1, inplace=True)"
   ]
  },
  {
   "cell_type": "code",
   "execution_count": 167,
   "metadata": {
    "collapsed": true
   },
   "outputs": [],
   "source": [
    "train_r['YearTrend']=0\n",
    "test_r['YearTrend']=0\n",
    "train_r['TimeInMonth'] = (train_r['Year'] - 2013)*12 + train_r['Month']\n",
    "test_r['TimeInMonth'] = (test_r['Year'] - 2013)*12 + test_r['Month']"
   ]
  },
  {
   "cell_type": "code",
   "execution_count": 168,
   "metadata": {
    "collapsed": true
   },
   "outputs": [],
   "source": [
    "growthfitnopromo = None\n",
    "growthfitwithpromo = None\n",
    "growthfit0nopromo = None\n",
    "growthfit0withpromo = None\n",
    "growthfit1nopromo = None\n",
    "growthfit1withpromo = None"
   ]
  },
  {
   "cell_type": "code",
   "execution_count": 169,
   "metadata": {},
   "outputs": [],
   "source": [
    "#for i in train_r['Date']:\n",
    " #   date_format = '%Y-%m-%d'\n",
    "  #  a = datetime.datetime.strptime('1899-12-30', date_format)\n",
    "   # b = datetime.datetime.strptime(d, date_format)\n",
    "   # delta = b - a\n",
    "   # train_r[i, 'date']= delta\n",
    "            "
   ]
  },
  {
   "cell_type": "code",
   "execution_count": null,
   "metadata": {
    "collapsed": true
   },
   "outputs": [],
   "source": [
    "Store =  train_r[(train_r['Store']==1) & (train_r['Month'] !=12)][['Store', 'DayOfWeek', 'Date', 'Sales', \n",
    "                                                                                'Customers', 'Open', 'Promo','StateHoliday', \n",
    "                                                                                'SchoolHoliday', 'StoreType', 'Assortment',\n",
    "                                                                                'CompetitionDistance', 'Promo2', 'Month',\n",
    "                                                                                'Year', 'Day', 'WeekOfYear','IsPromo2Month',\n",
    "                                                                                'Competition', 'StoreRenovated',\n",
    "                                                                                'DaysAfterRenovation', 'MonthSale']]\n",
    "\n",
    "Store_test =  test_r[(test_r['Store']==1) & (test_r['Month'] !=12)][['Store', 'DayOfWeek', 'Date',  \n",
    "                                                                                 'Open', 'Promo','StateHoliday', \n",
    "                                                                                'SchoolHoliday', 'StoreType', 'Assortment',\n",
    "                                                                                'CompetitionDistance', 'Promo2', 'Month',\n",
    "                                                                                'Year', 'Day', 'WeekOfYear','IsPromo2Month',\n",
    "                                                                                'Competition', 'StoreRenovated',\n",
    "                                                                                'DaysAfterRenovation']]\n"
   ]
  },
  {
   "cell_type": "code",
   "execution_count": null,
   "metadata": {
    "collapsed": true
   },
   "outputs": [],
   "source": [
    "for i in train_r['Store'].unique():\n",
    "    Store =  train_r[(train_r['Store']==1) & (train_r['Month'] !=12)][['Store', 'DayOfWeek', 'Date', 'Sales', \n",
    "                                                                                'Customers', 'Open', 'Promo','StateHoliday', \n",
    "                                                                                'SchoolHoliday', 'StoreType', 'Assortment',\n",
    "                                                                                'CompetitionDistance', 'Promo2', 'Month',\n",
    "                                                                                'Year', 'Day', 'WeekOfYear','IsPromo2Month',\n",
    "                                                                                'Competition', 'StoreRenovated',\n",
    "                                                                                'DaysAfterRenovation', 'MonthSale']]\n",
    "\n",
    "    Store_test =  test_r[(test_r['Store']==1) & (test_r['Month'] !=12)][['Store', 'DayOfWeek', 'Date',  \n",
    "                                                                                 'Open', 'Promo','StateHoliday', \n",
    "                                                                                'SchoolHoliday', 'StoreType', 'Assortment',\n",
    "                                                                                'CompetitionDistance', 'Promo2', 'Month',\n",
    "                                                                                'Year', 'Day', 'WeekOfYear','IsPromo2Month',\n",
    "                                                                                'Competition', 'StoreRenovated',\n",
    "                                                                                'DaysAfterRenovation']]\n",
    "\n",
    "    if Store['StoreRenovated'].iloc[1] == 0:\n",
    "        store_subset = Store.loc[Store['Promo']==0]\n",
    "        x = store_subset['Date']\n",
    "        x = x.reshape(-1, 1)\n",
    "        y= store_subset['Sales']\n",
    "        y = y.reshape(-1, 1)\n",
    "        growthfitnopromo = linear_model.LinearRegression()\n",
    "        model = growthfitnopromo.fit(x, y)\n",
    "        print('Coefficients: \\n', growthfitnopromo.coef_)\n",
    "        xx_subset = train_r.loc[train_r['Store']==1]\n",
    "        xx_subset = train_r.loc[train_r['Promo']==0]\n",
    "        xx = xx_subset['Date']\n",
    "        xx = xx.reshape(-1, 1)\n",
    "        yy = regr.predict(xx)\n",
    "        train_r[(train_r['Store']==1) & (train_r['Promo'] ==0)][['YearTrend']] = yy\n",
    "        \n",
    "        if s in test_r['Store'].unique():\n",
    "            xx_test_subset = test_r.loc[test_r['Store'] == s & test_r['Promo'] == 0]\n",
    "            xx_test = xx_test_subset['Date']\n",
    "            yy_test = growthfitnopromo.predict(yy_test)\n",
    "            test_r[(test_r['Store']== s) & (test_r['Promo'] == 0)][['YearTrend']] = yy\n",
    "            \n",
    "        #======= With Promo =============\n",
    "        promo_subset = train_r.loc[train_r['Promo']==1]\n",
    "        xx = promo_subset['Date']\n",
    "        xx = xx.reshape(-1, 1)\n",
    "        yy = promo_subset['Sales']\n",
    "        y = y.reshape(-1, 1)\n",
    "        growthfitwithpromo = linear_model.LinearRegression()\n",
    "        growthfitwithpromo = growthfitwithpromo.fit(xx, yy)\n",
    "        print('Coefficients: \\n', growthfitwithpromo.coef_)\n",
    "        xx_subset = train_r.loc[train_r['Store']==1]\n",
    "        xx_subset = train_r.loc[train_r['Promo']==0]\n",
    "        xx = xx_subset['Date']\n",
    "        xx = xx.reshape(-1, 1)\n",
    "        yy = regr.predict(xx)\n",
    "        train_r[(train_r['Store']==1) & (train_r['Promo'] ==0)][['YearTrend']] = yy\n",
    "        \n",
    "        plt.scatter(train_r['Store'], train_r['Sales'],  color='black')\n",
    "        plt.plot(train_r['Store'], train_r['Sales'], color='blue', linewidth=3)\n",
    "\n",
    "        plt.xticks(())\n",
    "        plt.yticks(())\n",
    "\n",
    "        plt.show()\n",
    "        \n",
    "         if s in test_r['Store'].unique():\n",
    "            xx_test_subset = test_r.loc[test_r['Store'] == s & test_r['Promo'] == 0]\n",
    "            xx_test = xx_test_subset['Date']\n",
    "            yy_test = growthfitwithpromo.predict(yy_test)\n",
    "            test_r[(test_r['Store']== s) & (test_r['Promo'] == 0)][['YearTrend']] = yy\n",
    "  \n",
    "    else:\n",
    "         #=======Without Promo =============\n",
    "         # Fitting before renovation:\n",
    "         store_subset = Store.loc[Store['DaysAfterRenovation']==0 & Store['Promo']==0]\n",
    "         x = store_subset['Date']\n",
    "         x = x.reshape(-1, 1)\n",
    "         y= store_subset['Sales']\n",
    "         y = y.reshape(-1, 1)\n",
    "         growthfit0nopromo = linear_model.LinearRegression()\n",
    "         growthfit0nopromo = growthfit0nopromo.fit(x, y)\n",
    "         print('Coefficients: \\n', growthfit0nopromo.coef_)\n",
    "         xx_subset = train_r.loc[train_r['DaysAfterRenovation']==0]\n",
    "         xx_subset = train_r.loc[train_r['Promo']==0]\n",
    "         xx = xx_subset['Date']\n",
    "         xx = xx.reshape(-1, 1)\n",
    "         yy = growthfit0nopromo.predict(xx)\n",
    "         train_r[(train_r['DaysAfterRenovation']==1) & (train_r['Promo'] ==0)][['YearTrend']] = yy\n",
    "        \n",
    "         #=======With Promo =============\n",
    "         store_subset = Store.loc[Store['DaysAfterRenovation']==0 & Store['Promo']==1]\n",
    "         x = store_subset['Date']\n",
    "         x = x.reshape(-1, 1)\n",
    "         y= store_subset['Sales']\n",
    "         y = y.reshape(-1, 1)\n",
    "         growthfit0withpromo = linear_model.LinearRegression()\n",
    "         growthfit0withpromo = growthfit0withpromo.fit(x, y)\n",
    "         print('Coefficients: \\n', growthfit0withpromo.coef_)\n",
    "         xx_subset = train_r.loc[train_r['DaysAfterRenovation']==0]\n",
    "         xx_subset = train_r.loc[train_r['Promo']==1]\n",
    "         xx = xx_subset['Date']\n",
    "         xx = xx.reshape(-1, 1)\n",
    "         yy = growthfit0withpromo.predict(xx)\n",
    "         train_r[(train_r['DaysAfterRenovation']==1) & (train_r['Promo'] ==0)][['YearTrend']] = yy\n",
    "         \n",
    "         # Fitting to after renovation: \n",
    "         #=======Without Promo =============\n",
    "         store_subset = Store.loc[Store['DaysAfterRenovation']== 1 & Store['Promo']==0]\n",
    "         x = store_subset['Date']\n",
    "         x = x.reshape(-1, 1)\n",
    "         y= store_subset['Sales']\n",
    "         y = y.reshape(-1, 1)\n",
    "         growthfit1nopromo = linear_model.LinearRegression()\n",
    "         growthfit1nopromo = growthfit1nopromo.fit(x, y)\n",
    "         print('Coefficients: \\n', growthfit1nopromo.coef_)\n",
    "         xx_subset = train_r.loc[train_r['DaysAfterRenovation']==1]\n",
    "         xx_subset = train_r.loc[train_r['Promo']==0]\n",
    "         xx = xx_subset['Date']\n",
    "         xx = xx.reshape(-1, 1)\n",
    "         yy = growthfit1nopromo.predict(xx)\n",
    "         train_r[(train_r['DaysAfterRenovation']==1) & (train_r['Promo'] ==0)][['YearTrend']] = yy\n",
    "        \n",
    "         if r in test_r['Store'].unique():\n",
    "            xx_test_subset = test_r.loc[test_r['Store'] == r & test_r['Promo'] == 0]\n",
    "            xx_test = xx_test_subset['Date']\n",
    "            yy_test = growthfit1nopromo.predict(yy_test)\n",
    "            test_r[(test_r['Store']== s) & (test_r['Promo'] == 0)][['YearTrend']] = yy\n",
    "\n",
    "         #=======With Promo =============\n",
    "         store_subset = Store.loc[Store['DaysAfterRenovation']== 1 & Store['Promo']==1]\n",
    "         x = store_subset['Date']\n",
    "         x = x.reshape(-1, 1)\n",
    "         y= store_subset['Sales']\n",
    "         y = y.reshape(-1, 1)\n",
    "         growthfit1withpromo = linear_model.LinearRegression()\n",
    "         model = growthfit1withpromo.fit(x, y)\n",
    "         print('Coefficients: \\n', model_after_renovation_with_promo.coef_)\n",
    "         xx_subset = train_r.loc[train_r['DaysAfterRenovation']==1]\n",
    "         xx_subset = train_r.loc[train_r['Promo']==1]\n",
    "         xx = xx_subset['Date']\n",
    "         xx = xx.reshape(-1, 1)\n",
    "         yy = growthfit1withpromo.predict(xx)\n",
    "         train_r[(train_r['DaysAfterRenovation']==1) & (train_r['Promo'] == 1)][['YearTrend']] = yy\n",
    "        \n",
    "         if r in test_r['Store'].unique():\n",
    "            xx_test_subset = test_r.loc[test_r['Store'] == r & test_r['Promo'] == 0]\n",
    "            xx_test = xx_test_subset['Date']\n",
    "            yy_test = growthfit1withpromo.predict(yy_test)\n",
    "            test_r[(test_r['Store']== s) & (test_r['Promo'] == 0)][['YearTrend']] = yy\n",
    "\n",
    "\n",
    "list_of_fits = []\n",
    "list_of_fits.append(growthfitnopromo)\n",
    "list_of_fits.append(growthfitwithpromo)\n",
    "list_of_fits.append(growthfit0nopromo)\n",
    "list_of_fits.append(growthfit0withpromo)\n",
    "list_of_fits.append(growthfit1nopromo)\n",
    "list_of_fits.append(growthfit1withpromo)\n",
    "print (list_of_fits)\n",
    "\n",
    "train_r['Sales2'] = train_r['Sales']\n",
    "train_r['Sales'] = train_r['YearTrend']\n"
   ]
  },
  {
   "cell_type": "markdown",
   "metadata": {},
   "source": [
    "# Monthly Trend\n"
   ]
  },
  {
   "cell_type": "code",
   "execution_count": null,
   "metadata": {
    "collapsed": true
   },
   "outputs": [],
   "source": [
    "monthfit = NULL\n",
    "train_r['MonthTrend'] = 0\n",
    "test_r['MonthTrend'] = 0\n",
    "for i in train_r['Store'].unique():\n",
    "    Store =  train_r[(train_r['Store']==i)][['Store', 'DayOfWeek', 'Date', 'Sales', \n",
    "                                                                                'Customers', 'Open', 'Promo','StateHoliday', \n",
    "                                                                                'SchoolHoliday', 'StoreType', 'Assortment',\n",
    "                                                                                'CompetitionDistance', 'Promo2', 'Month',\n",
    "                                                                                'Year', 'Day', 'WeekOfYear','IsPromo2Month',\n",
    "                                                                                'Competition', 'StoreRenovated',\n",
    "                                                                                'DaysAfterRenovation', 'MonthSale']]\n",
    "    y = [Store['Sales'],Store['Day'],mean]\n",
    "    x = int(y)\n",
    "    monthfit = linear_model.LinearRegression()\n",
    "    model = monthfit.fit(x, y)\n",
    "    print('Coefficients: \\n', monthfit.coef_)\n",
    "    xx_subset = train_r.loc[train_r['Store']==i]\n",
    "    xx = xx_subset['Day']\n",
    "    xx = xx.reshape(-1, 1)\n",
    "    yy = monthfit.predict(xx)\n",
    "    train_r[(train_r['Store']==i)][['MonthTrend ']] = yy\n",
    "    if r in test_r['Store'].unique():\n",
    "        xx_test_subset = test_r.loc[test_r['Store'] == r]\n",
    "        xx_test = xx_test_subset['Day']\n",
    "        yy_test = monthfit.predict(yy_test)\n",
    "        test_r[(test_r['Store']== r)[['MonthTrend']] = yy\n",
    "        \n",
    "    train_r['Sales3'] = train_r['Sales']\n",
    "    train_r['Sales'] = train_r['Sales'] - train_r['MonthTrend']"
   ]
  },
  {
   "cell_type": "code",
   "execution_count": null,
   "metadata": {
    "collapsed": true
   },
   "outputs": [],
   "source": [
    "# Exploring the monthly trend:\n",
    "monthfit <- NULL\n",
    "train$MonthTrend <- 0\n",
    "test$MonthTrend <- 0\n",
    "for (i in unique(train$Store)) {\n",
    "  cat(\"doing Store =\",i,\"\\n\")\n",
    "  Store <- train[train$Store==i ,]\n",
    "  y <- by(Store$Sales, Store$Day, mean)\n",
    "  x <- as.integer(names(y))\n",
    "  monthfit[[i]] <- lm(y~ns(x,df=5))\n",
    "  plot(x,y,pch=19,xlab=\"DayofMonth\",ylab=\"sale variation\",main = paste0(\"Store = \",as.character(i)))\n",
    "\n",
    "  xx <- train[train$Store==i,]$Day\n",
    "  yy <- predict(monthfit[[i]], data.frame(x=xx))\n",
    "  train[train$Store==i,]$MonthTrend <- yy\n",
    "\n",
    "  if (i %in% unique(test$Store)) {\n",
    "    xx <- test[test$Store==i,]$Day\n",
    "    yy <- predict(monthfit[[i]],data.frame(x=xx))\n",
    "    test[test$Store==i,]$MonthTrend <- yy\n",
    "    points(test[test$Store==i,]$Day,test[test$Store==i,]$MonthTrend,col=\"blue\",pch=19)\n",
    "  }\n",
    "  fname<-paste0(\"Store_\",as.character(i),\"_MonthTrend.png\")\n",
    "  dev.copy(png,file=fname); dev.off()\n",
    "}\n",
    "\n",
    "save(list=c(\"monthfit\"),file=\"~/all_monthfits.RData\")\n",
    "\n",
    "train$Sales3 <- train$Sales\n",
    "train$Sales <- train$Sales - train$MonthTrend\n",
    "\n",
    "\n",
    "#save(list=c(\"train\"),file=\"~/train_set_with_Month_Trend.RData\")\n",
    "#save(list=c(\"test\"),file=\"~/test_set_with_Month_Trend.RData\")\n",
    "\n",
    "\n",
    "train$SaleSD <- 1\n",
    "test$SaleSD <- 1\n",
    "for (i in unique(train$Store)) {\n",
    "  sd_sale <- sd(train[train$Store==i ,]$Sales)\n",
    "  cat(\"doing Store i=\",i,\"sd=\",sd_sale,\"\\n\")\n",
    "  train[train$Store==i,]$SaleSD <- sd_sale\n",
    "  if (i %in% unique(test$Store)) {\n",
    "    test[test$Store==i,]$SaleSD <- sd_sale\n",
    "  }\n",
    "}\n",
    "\n",
    "train$Sales4 <- train$Sales\n",
    "# Normalizing sale of stores by their standard deviation\n",
    "train$Sales <- train$Sales / train$SaleSD\n",
    "\n",
    "write_csv(train, \"~/kaggleout/rossman/train_normalized.csv\")\n",
    "write_csv(test,\"~/kaggleout/rossman/test_normalized.csv\")\n"
   ]
  },
  {
   "cell_type": "code",
   "execution_count": 207,
   "metadata": {},
   "outputs": [
    {
     "name": "stderr",
     "output_type": "stream",
     "text": [
      "C:\\ProgramData\\Anaconda3\\lib\\site-packages\\ipykernel_launcher.py:2: FutureWarning: reshape is deprecated and will raise in a subsequent release. Please use .values.reshape(...) instead\n",
      "  \n",
      "C:\\ProgramData\\Anaconda3\\lib\\site-packages\\ipykernel_launcher.py:4: FutureWarning: reshape is deprecated and will raise in a subsequent release. Please use .values.reshape(...) instead\n",
      "  after removing the cwd from sys.path.\n",
      "C:\\ProgramData\\Anaconda3\\lib\\site-packages\\ipykernel_launcher.py:6: FutureWarning: reshape is deprecated and will raise in a subsequent release. Please use .values.reshape(...) instead\n",
      "  \n"
     ]
    }
   ],
   "source": [
    "x = Store['Date']\n",
    "x = x.reshape(-1, 1)\n",
    "y= Store['Sales']\n",
    "y = y.reshape(-1, 1)\n",
    "x_pred = Store_test['Date']\n",
    "x_pred = x_pred.reshape(-1, 1)"
   ]
  },
  {
   "cell_type": "code",
   "execution_count": 208,
   "metadata": {},
   "outputs": [],
   "source": [
    "regr = linear_model.LinearRegression()\n",
    "\n",
    "# Train the model using the training sets\n",
    "model = regr.fit(x, y)"
   ]
  },
  {
   "cell_type": "code",
   "execution_count": 209,
   "metadata": {},
   "outputs": [
    {
     "name": "stdout",
     "output_type": "stream",
     "text": [
      "Coefficients: \n",
      " [[-0.56555049]]\n"
     ]
    }
   ],
   "source": [
    "print('Coefficients: \\n', regr.coef_)"
   ]
  },
  {
   "cell_type": "code",
   "execution_count": 210,
   "metadata": {},
   "outputs": [],
   "source": [
    "y_pred = regr.predict(x_pred)\n"
   ]
  },
  {
   "cell_type": "code",
   "execution_count": 214,
   "metadata": {},
   "outputs": [
    {
     "name": "stdout",
     "output_type": "stream",
     "text": [
      "Coefficients: \n",
      " [[-0.56555049]]\n"
     ]
    },
    {
     "name": "stderr",
     "output_type": "stream",
     "text": [
      "C:\\ProgramData\\Anaconda3\\lib\\site-packages\\ipykernel_launcher.py:9: FutureWarning: reshape is deprecated and will raise in a subsequent release. Please use .values.reshape(...) instead\n",
      "  if __name__ == '__main__':\n",
      "C:\\ProgramData\\Anaconda3\\lib\\site-packages\\ipykernel_launcher.py:11: FutureWarning: reshape is deprecated and will raise in a subsequent release. Please use .values.reshape(...) instead\n",
      "  # This is added back by InteractiveShellApp.init_path()\n"
     ]
    }
   ],
   "source": [
    "Store =  train_r[(train_r['Store']==1) & (train_r['Month'] !=12)][['Store', 'DayOfWeek', 'Date', 'Sales', \n",
    "                                                                                'Customers', 'Open', 'Promo','StateHoliday', \n",
    "                                                                                'SchoolHoliday', 'StoreType', 'Assortment',\n",
    "                                                                                'CompetitionDistance', 'Promo2', 'Month',\n",
    "                                                                                'Year', 'Day', 'WeekOfYear','IsPromo2Month',\n",
    "                                                                                'Competition', 'StoreRenovated',\n",
    "                                                                                'DaysAfterRenovation', 'MonthSale']]\n",
    "x = Store['Date']\n",
    "x = x.reshape(-1, 1)\n",
    "y= Store['Sales']\n",
    "y = y.reshape(-1, 1)\n",
    "regr = linear_model.LinearRegression()\n",
    "\n",
    "# Train the model using the training sets\n",
    "model = regr.fit(x, y)\n",
    "print('Coefficients: \\n', regr.coef_)\n",
    "xx = "
   ]
  },
  {
   "cell_type": "code",
   "execution_count": 223,
   "metadata": {},
   "outputs": [
    {
     "name": "stderr",
     "output_type": "stream",
     "text": [
      "C:\\ProgramData\\Anaconda3\\lib\\site-packages\\ipykernel_launcher.py:4: FutureWarning: reshape is deprecated and will raise in a subsequent release. Please use .values.reshape(...) instead\n",
      "  after removing the cwd from sys.path.\n"
     ]
    }
   ],
   "source": [
    "xx_subset = train_r.loc[train_r['Store']==1]\n",
    "xx_subset = train_r.loc[train_r['Promo']==0]\n",
    "xx = xx_subset['Date']\n",
    "xx = xx.reshape(-1, 1)"
   ]
  },
  {
   "cell_type": "code",
   "execution_count": 233,
   "metadata": {},
   "outputs": [
    {
     "data": {
      "text/plain": [
       "(431, 1)"
      ]
     },
     "execution_count": 233,
     "metadata": {},
     "output_type": "execute_result"
    }
   ],
   "source": [
    "yy = regr.predict(xx) \n",
    "yy.shape"
   ]
  },
  {
   "cell_type": "code",
   "execution_count": 235,
   "metadata": {},
   "outputs": [
    {
     "name": "stderr",
     "output_type": "stream",
     "text": [
      "C:\\ProgramData\\Anaconda3\\lib\\site-packages\\ipykernel_launcher.py:1: SettingWithCopyWarning: \n",
      "A value is trying to be set on a copy of a slice from a DataFrame.\n",
      "Try using .loc[row_indexer,col_indexer] = value instead\n",
      "\n",
      "See the caveats in the documentation: http://pandas.pydata.org/pandas-docs/stable/indexing.html#indexing-view-versus-copy\n",
      "  \"\"\"Entry point for launching an IPython kernel.\n",
      "C:\\ProgramData\\Anaconda3\\lib\\site-packages\\pandas\\core\\indexing.py:517: SettingWithCopyWarning: \n",
      "A value is trying to be set on a copy of a slice from a DataFrame.\n",
      "Try using .loc[row_indexer,col_indexer] = value instead\n",
      "\n",
      "See the caveats in the documentation: http://pandas.pydata.org/pandas-docs/stable/indexing.html#indexing-view-versus-copy\n",
      "  self.obj[item] = s\n"
     ]
    }
   ],
   "source": []
  },
  {
   "cell_type": "code",
   "execution_count": null,
   "metadata": {
    "collapsed": true
   },
   "outputs": [],
   "source": [
    "if (i in train_r['Store'].unique()):\n",
    "    "
   ]
  },
  {
   "cell_type": "code",
   "execution_count": null,
   "metadata": {
    "collapsed": true
   },
   "outputs": [],
   "source": [
    "  if (i %in% unique(test$Store)) {\n",
    "    xx <- as.integer(test[test$Store==i & test$Promo==0,]$Date)\n",
    "    yy <- predict(growthfitnopromo[[i]],data.frame(x=xx))\n",
    "    test[test$Store==i & test$Promo==0,]$YearTrend <- yy\n",
    "  }"
   ]
  },
  {
   "cell_type": "code",
   "execution_count": 82,
   "metadata": {},
   "outputs": [
    {
     "name": "stdout",
     "output_type": "stream",
     "text": [
      "42211\n",
      "42204\n",
      "42197\n",
      "42190\n",
      "42183\n",
      "42176\n",
      "42169\n",
      "42162\n",
      "42159\n",
      "42155\n",
      "42149\n",
      "42148\n",
      "42141\n",
      "42138\n",
      "42134\n",
      "42127\n",
      "42125\n",
      "42120\n",
      "42113\n",
      "42106\n",
      "42100\n",
      "42099\n",
      "42097\n",
      "42092\n",
      "42085\n",
      "42078\n",
      "42071\n",
      "42064\n",
      "42057\n",
      "42050\n",
      "42043\n",
      "42036\n",
      "42029\n",
      "42022\n",
      "42015\n",
      "42008\n",
      "42005\n",
      "41973\n",
      "41966\n",
      "41959\n",
      "41952\n",
      "41945\n",
      "41938\n",
      "41931\n",
      "41924\n",
      "41917\n",
      "41915\n",
      "41910\n",
      "41903\n",
      "41896\n",
      "41889\n",
      "41882\n",
      "41875\n",
      "41868\n",
      "41861\n",
      "41854\n",
      "41847\n",
      "41840\n",
      "41833\n",
      "41826\n",
      "41819\n",
      "41812\n",
      "41809\n",
      "41805\n",
      "41799\n",
      "41798\n",
      "41791\n",
      "41788\n",
      "41784\n",
      "41777\n",
      "41770\n",
      "41763\n",
      "41760\n",
      "41756\n",
      "41750\n",
      "41749\n",
      "41747\n",
      "41742\n",
      "41735\n",
      "41728\n",
      "41721\n",
      "41714\n",
      "41707\n",
      "41700\n",
      "41693\n",
      "41686\n",
      "41679\n",
      "41672\n",
      "41665\n",
      "41658\n",
      "41651\n",
      "41644\n",
      "41640\n",
      "41602\n",
      "41595\n",
      "41588\n",
      "41581\n",
      "41574\n",
      "41567\n",
      "41560\n",
      "41553\n",
      "41550\n",
      "41546\n",
      "41539\n",
      "41532\n",
      "41525\n",
      "41518\n",
      "41511\n",
      "41504\n",
      "41497\n",
      "41490\n",
      "41483\n",
      "41476\n",
      "41469\n",
      "41462\n",
      "41455\n",
      "41448\n",
      "41441\n",
      "41434\n",
      "41427\n",
      "41424\n",
      "41420\n",
      "41414\n",
      "41413\n",
      "41406\n",
      "41403\n",
      "41399\n",
      "41395\n",
      "41392\n",
      "41385\n",
      "41378\n",
      "41371\n",
      "41365\n",
      "41364\n",
      "41362\n",
      "41357\n",
      "41350\n",
      "41343\n",
      "41336\n",
      "41329\n",
      "41322\n",
      "41315\n",
      "41308\n",
      "41301\n",
      "41294\n",
      "41287\n",
      "41280\n",
      "41275\n"
     ]
    },
    {
     "name": "stderr",
     "output_type": "stream",
     "text": [
      "C:\\ProgramData\\Anaconda3\\lib\\site-packages\\ipykernel_launcher.py:1: UserWarning: Boolean Series key will be reindexed to match DataFrame index.\n",
      "  \"\"\"Entry point for launching an IPython kernel.\n"
     ]
    }
   ],
   "source": [
    "Store =  train_r[(train['Store']==1) & (train['Month'] !=12)][['Store', 'DayOfWeek', 'Date', 'Sales', \n",
    "                                                                                'Customers', 'Open', 'Promo','StateHoliday', \n",
    "                                                                                'SchoolHoliday', 'StoreType', 'Assortment',\n",
    "                                                                                'CompetitionDistance', 'Promo2', 'Month',\n",
    "                                                                                'Year', 'Day', 'WeekOfYear','IsPromo2Month',\n",
    "                                                                                'Competition', 'StoreRenovated',\n",
    "                                                                                'DaysAfterRenovation', 'MonthSale']]\n",
    "if Store['StoreRenovated'].iloc[1] == 0:\n",
    "    date = ((Store['Date']))\n",
    "    for d in date:\n",
    "        date_format = '%Y-%m-%d'\n",
    "        a = datetime.datetime.strptime('1899-12-30', date_format)\n",
    "        b = datetime.datetime.strptime(d, date_format)\n",
    "        delta = b - a\n",
    "        print (delta.days) # that's it\n",
    "\n",
    "\n",
    "#    y = Store[Store['Promo']Promo==0,]Store['Sales']\n",
    "    "
   ]
  },
  {
   "cell_type": "code",
   "execution_count": 83,
   "metadata": {},
   "outputs": [],
   "source": [
    "def excel_date(date1):\n",
    "    date_format = '%Y-%m-%d'\n",
    "    a = datetime.datetime.strptime('1899-12-30', date_format)\n",
    "    b = datetime.datetime.strptime(date1, date_format)\n",
    "    delta = b - a\n",
    "    return delta"
   ]
  },
  {
   "cell_type": "code",
   "execution_count": 61,
   "metadata": {},
   "outputs": [
    {
     "name": "stderr",
     "output_type": "stream",
     "text": [
      "C:\\ProgramData\\Anaconda3\\lib\\site-packages\\ipykernel_launcher.py:1: UserWarning: Boolean Series key will be reindexed to match DataFrame index.\n",
      "  \"\"\"Entry point for launching an IPython kernel.\n"
     ]
    }
   ],
   "source": [
    " Store =  train_r[(train['Store']==1114) & (train['Month'] !=12)][['Store', 'DayOfWeek', 'Date', 'Sales', \n",
    "                                                                                'Customers', 'Open', 'Promo','StateHoliday', \n",
    "                                                                                'SchoolHoliday', 'StoreType', 'Assortment',\n",
    "                                                                                'CompetitionDistance', 'Promo2', 'Month',\n",
    "                                                                                'Year', 'Day', 'WeekOfYear','IsPromo2Month',\n",
    "                                                                                'Competition', 'StoreRenovated',\n",
    "                                                                                'DaysAfterRenovation', 'MonthSale']]\n",
    "    "
   ]
  },
  {
   "cell_type": "code",
   "execution_count": 88,
   "metadata": {},
   "outputs": [
    {
     "data": {
      "text/plain": [
       "datetime.timedelta(41275)"
      ]
     },
     "execution_count": 88,
     "metadata": {},
     "output_type": "execute_result"
    }
   ],
   "source": [
    "x"
   ]
  },
  {
   "cell_type": "code",
   "execution_count": null,
   "metadata": {
    "collapsed": true
   },
   "outputs": [],
   "source": []
  }
 ],
 "metadata": {
  "kernelspec": {
   "display_name": "Python 3",
   "language": "python",
   "name": "python3"
  },
  "language_info": {
   "codemirror_mode": {
    "name": "ipython",
    "version": 3
   },
   "file_extension": ".py",
   "mimetype": "text/x-python",
   "name": "python",
   "nbconvert_exporter": "python",
   "pygments_lexer": "ipython3",
   "version": "3.6.3"
  }
 },
 "nbformat": 4,
 "nbformat_minor": 2
}
